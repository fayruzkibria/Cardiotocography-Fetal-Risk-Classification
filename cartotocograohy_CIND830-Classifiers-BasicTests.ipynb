{
 "cells": [
  {
   "cell_type": "code",
   "execution_count": 1,
   "id": "3266506e",
   "metadata": {},
   "outputs": [
    {
     "name": "stderr",
     "output_type": "stream",
     "text": [
      "C:\\Users\\fayru\\anaconda3\\lib\\site-packages\\xgboost\\compat.py:36: FutureWarning: pandas.Int64Index is deprecated and will be removed from pandas in a future version. Use pandas.Index with the appropriate dtype instead.\n"
     ]
    }
   ],
   "source": [
    "import pandas as pd\n",
    "import numpy as np\n",
    "\n",
    "import seaborn as sns\n",
    "import matplotlib.pyplot as plt\n",
    "\n",
    "import plotnine\n",
    "from plotnine import *\n",
    "from plotnine.data import *\n",
    "%matplotlib inline\n",
    "\n",
    "from sklearn.preprocessing import StandardScaler, MinMaxScaler\n",
    "from sklearn.model_selection import train_test_split, KFold, StratifiedKFold\n",
    "from sklearn import preprocessing\n",
    "\n",
    "from imblearn.over_sampling import SMOTENC\n",
    "from collections import Counter\n",
    "\n",
    "from sklearn import tree\n",
    "from sklearn.tree import DecisionTreeClassifier\n",
    "from sklearn.ensemble import RandomForestClassifier\n",
    "from sklearn.svm import SVC\n",
    "\n",
    "from sklearn import metrics\n",
    "from sklearn.metrics import ConfusionMatrixDisplay, confusion_matrix, precision_recall_fscore_support\n",
    "from sklearn.metrics import accuracy_score, precision_score, f1_score, recall_score, roc_curve, auc\n",
    "from sklearn.metrics import classification_report\n",
    "\n",
    "from xgboost import XGBClassifier\n",
    "import warnings\n",
    "warnings.filterwarnings(\"ignore\")"
   ]
  },
  {
   "cell_type": "code",
   "execution_count": 2,
   "id": "a790c169",
   "metadata": {},
   "outputs": [],
   "source": [
    "# Import dataset after initial processing form R\n",
    "mydata0 = pd.read_csv(\"df8.csv\")\n",
    "mydata=mydata0.copy()\n",
    "\n",
    "# View the first few rows of the data\n",
    "#mydata.info()"
   ]
  },
  {
   "cell_type": "code",
   "execution_count": 3,
   "id": "cbff96e2",
   "metadata": {},
   "outputs": [],
   "source": [
    "#Scaler=StandardScaler()\n",
    "#X=Scaler.fit_transform(mydata) # min max scaling was already done in R\n",
    "\n",
    "label_col=mydata['NSP'] # defining the label column\n",
    "data_col=mydata.iloc[:, 0:32] # defining the feature columns #32 #28:31]\n"
   ]
  },
  {
   "cell_type": "code",
   "execution_count": 4,
   "id": "e9b8cbc8",
   "metadata": {},
   "outputs": [],
   "source": [
    "# splitting data into test train 70/30 split\n",
    "\n",
    "X_train,X_test,y_train,y_test=train_test_split(data_col,label_col,test_size=0.3 ,random_state=42, stratify=label_col)"
   ]
  },
  {
   "cell_type": "code",
   "execution_count": 5,
   "id": "86521dbb",
   "metadata": {},
   "outputs": [],
   "source": [
    "# Saving the test train split for plotting in R\n",
    "X_y_train_combined = pd.concat([X_train,y_train], axis=1)\n",
    "X_y_test_combined = pd.concat([X_test,y_test], axis=1)\n",
    "X_y_train_combined.to_csv('X_y_train_combined.csv',index=False)\n",
    "X_y_test_combined.to_csv('X_y_test_combined.csv',index=False)"
   ]
  },
  {
   "cell_type": "code",
   "execution_count": 6,
   "id": "a6ffd4a1",
   "metadata": {},
   "outputs": [
    {
     "name": "stdout",
     "output_type": "stream",
     "text": [
      "2126\n"
     ]
    }
   ],
   "source": [
    "#X_train.info()\n",
    "#len(label_col.index)\n",
    "print(len(X_train.index)+len(X_test.index)) # check the split numbers"
   ]
  },
  {
   "cell_type": "code",
   "execution_count": 7,
   "id": "5d218a0d",
   "metadata": {},
   "outputs": [
    {
     "name": "stdout",
     "output_type": "stream",
     "text": [
      "[(1, 497), (2, 88), (3, 53)]\n"
     ]
    }
   ],
   "source": [
    "print(sorted(Counter(y_test).items()))# check the class distributionin the stratified test set"
   ]
  },
  {
   "cell_type": "code",
   "execution_count": 8,
   "id": "b093cc5b",
   "metadata": {},
   "outputs": [],
   "source": [
    "#defining the classifiers with standard hyperparameters\n",
    "\n",
    "dc_clf = tree.DecisionTreeClassifier(max_depth=5)\n",
    "rnd_clf=RandomForestClassifier()\n",
    "svm_clf=SVC(kernel=\"poly\",degree=6,coef0=5,gamma=0.1)\n",
    "xgb_clf=XGBClassifier(learning_rate=0.001, verbosity = 0)"
   ]
  },
  {
   "cell_type": "code",
   "execution_count": 9,
   "id": "a5f8bced",
   "metadata": {},
   "outputs": [
    {
     "name": "stdout",
     "output_type": "stream",
     "text": [
      "****************************** DecisionTreeClassifier ******************************\n",
      "\n"
     ]
    },
    {
     "data": {
      "image/png": "[encoded data removed]",
      "text/plain": [
       "<Figure size 432x288 with 2 Axes>"
      ]
     },
     "metadata": {
      "needs_background": "light"
     },
     "output_type": "display_data"
    },
    {
     "name": "stdout",
     "output_type": "stream",
     "text": [
      "\n",
      "\n",
      "              precision    recall  f1-score   support\n",
      "\n",
      "           1       0.98      0.99      0.99       497\n",
      "           2       0.96      0.88      0.92        88\n",
      "           3       1.00      1.00      1.00        53\n",
      "\n",
      "    accuracy                           0.98       638\n",
      "   macro avg       0.98      0.96      0.97       638\n",
      "weighted avg       0.98      0.98      0.98       638\n",
      " \n",
      "\n",
      "****************************** RandomForestClassifier ******************************\n",
      "\n"
     ]
    },
    {
     "data": {
      "image/png": "[encoded data removed]",
      "text/plain": [
       "<Figure size 432x288 with 2 Axes>"
      ]
     },
     "metadata": {
      "needs_background": "light"
     },
     "output_type": "display_data"
    },
    {
     "name": "stdout",
     "output_type": "stream",
     "text": [
      "\n",
      "\n",
      "              precision    recall  f1-score   support\n",
      "\n",
      "           1       0.98      1.00      0.99       497\n",
      "           2       1.00      0.88      0.93        88\n",
      "           3       1.00      1.00      1.00        53\n",
      "\n",
      "    accuracy                           0.98       638\n",
      "   macro avg       0.99      0.96      0.97       638\n",
      "weighted avg       0.98      0.98      0.98       638\n",
      " \n",
      "\n",
      "****************************** SVC ******************************\n",
      "\n"
     ]
    },
    {
     "data": {
      "image/png": "[encoded data removed]",
      "text/plain": [
       "<Figure size 432x288 with 2 Axes>"
      ]
     },
     "metadata": {
      "needs_background": "light"
     },
     "output_type": "display_data"
    },
    {
     "name": "stdout",
     "output_type": "stream",
     "text": [
      "\n",
      "\n",
      "              precision    recall  f1-score   support\n",
      "\n",
      "           1       0.98      0.99      0.99       497\n",
      "           2       0.95      0.91      0.93        88\n",
      "           3       1.00      0.98      0.99        53\n",
      "\n",
      "    accuracy                           0.98       638\n",
      "   macro avg       0.98      0.96      0.97       638\n",
      "weighted avg       0.98      0.98      0.98       638\n",
      " \n",
      "\n",
      "****************************** XGBClassifier ******************************\n",
      "\n"
     ]
    },
    {
     "data": {
      "image/png": "[encoded data removed]",
      "text/plain": [
       "<Figure size 432x288 with 2 Axes>"
      ]
     },
     "metadata": {
      "needs_background": "light"
     },
     "output_type": "display_data"
    },
    {
     "name": "stdout",
     "output_type": "stream",
     "text": [
      "\n",
      "\n",
      "              precision    recall  f1-score   support\n",
      "\n",
      "           1       0.97      1.00      0.98       497\n",
      "           2       0.97      0.82      0.89        88\n",
      "           3       1.00      1.00      1.00        53\n",
      "\n",
      "    accuracy                           0.97       638\n",
      "   macro avg       0.98      0.94      0.96       638\n",
      "weighted avg       0.97      0.97      0.97       638\n",
      " \n",
      "\n"
     ]
    }
   ],
   "source": [
    "# training and testing data with the classifiers\n",
    "\n",
    "for clf in (dc_clf, rnd_clf, svm_clf, xgb_clf):\n",
    "    clf.fit(X_train, y_train)# fitting original imbalanced\n",
    "    y_pred = clf.predict(X_test)\n",
    "    \n",
    "    print(\"******************************\",clf.__class__.__name__,\"******************************\\n\")\n",
    "    \n",
    "    cf_matrix = confusion_matrix(y_test,y_pred)\n",
    "    ax = sns.heatmap(cf_matrix, annot=True, fmt='g', ax=None, cmap='Blues')\n",
    "    #ax.set_title('Seaborn Confusion Matrix with labels\\n\\n');\n",
    "    ax.set_xlabel('\\nPredicted Values')\n",
    "    ax.set_ylabel('Actual Values ');\n",
    "\n",
    "    ## Ticket labels - List must be in alphabetical order\n",
    "    ax.xaxis.set_ticklabels(['normal', 'suspect','pathologic'])\n",
    "    ax.yaxis.set_ticklabels(['normal', 'suspect','pathologic'])\n",
    "\n",
    "    ## Display the visualization of the Confusion Matrix.\n",
    "    plt.show()\n",
    "    print(\"\\n\")\n",
    "    \n",
    "    #print(clf.__class__.__name__, accuracy_score(y_test, y_pred))\n",
    "    #print(clf.__class__.__name__, recall_score(y_test,y_pred,average=\"weighted\"))\n",
    "    #print(clf.__class__.__name__, precision_score(y_test,y_pred,average='weighted'))\n",
    "    print( classification_report(y_test,y_pred),\"\\n\")   "
   ]
  },
  {
   "cell_type": "code",
   "execution_count": 10,
   "id": "d14931a2",
   "metadata": {},
   "outputs": [],
   "source": [
    "### NOW WORKING WITH THE NON EXPERT DATA ONLY"
   ]
  },
  {
   "cell_type": "code",
   "execution_count": 11,
   "id": "939dded6",
   "metadata": {},
   "outputs": [],
   "source": [
    "label_col2=mydata['NSP'] # defining the label column\n",
    "data_col2=mydata.iloc[:, 0:21] # defining the feature columns without expert classification\n",
    "#data_col2.info()"
   ]
  },
  {
   "cell_type": "code",
   "execution_count": 12,
   "id": "3c2805a0",
   "metadata": {},
   "outputs": [],
   "source": [
    "# splitting data into test train 70/30 split\n",
    "\n",
    "X_train2,X_test2,y_train2,y_test2=train_test_split(data_col2,label_col2,test_size=0.3 ,random_state=42, stratify=label_col2)"
   ]
  },
  {
   "cell_type": "code",
   "execution_count": 13,
   "id": "66099bd8",
   "metadata": {},
   "outputs": [
    {
     "name": "stdout",
     "output_type": "stream",
     "text": [
      "****************************** DecisionTreeClassifier ******************************\n",
      "\n"
     ]
    },
    {
     "data": {
      "image/png": "[encoded data removed]",
      "text/plain": [
       "<Figure size 432x288 with 2 Axes>"
      ]
     },
     "metadata": {
      "needs_background": "light"
     },
     "output_type": "display_data"
    },
    {
     "name": "stdout",
     "output_type": "stream",
     "text": [
      "\n",
      "\n",
      "              precision    recall  f1-score   support\n",
      "\n",
      "           1       0.91      0.98      0.94       497\n",
      "           2       0.81      0.53      0.64        88\n",
      "           3       0.94      0.85      0.89        53\n",
      "\n",
      "    accuracy                           0.91       638\n",
      "   macro avg       0.89      0.79      0.83       638\n",
      "weighted avg       0.90      0.91      0.90       638\n",
      " \n",
      "\n",
      "****************************** RandomForestClassifier ******************************\n",
      "\n"
     ]
    },
    {
     "data": {
      "image/png": "[encoded data removed]",
      "text/plain": [
       "<Figure size 432x288 with 2 Axes>"
      ]
     },
     "metadata": {
      "needs_background": "light"
     },
     "output_type": "display_data"
    },
    {
     "name": "stdout",
     "output_type": "stream",
     "text": [
      "\n",
      "\n",
      "              precision    recall  f1-score   support\n",
      "\n",
      "           1       0.95      0.97      0.96       497\n",
      "           2       0.78      0.70      0.74        88\n",
      "           3       0.90      0.87      0.88        53\n",
      "\n",
      "    accuracy                           0.92       638\n",
      "   macro avg       0.88      0.85      0.86       638\n",
      "weighted avg       0.92      0.92      0.92       638\n",
      " \n",
      "\n",
      "****************************** SVC ******************************\n",
      "\n"
     ]
    },
    {
     "data": {
      "image/png": "[encoded data removed]",
      "text/plain": [
       "<Figure size 432x288 with 2 Axes>"
      ]
     },
     "metadata": {
      "needs_background": "light"
     },
     "output_type": "display_data"
    },
    {
     "name": "stdout",
     "output_type": "stream",
     "text": [
      "\n",
      "\n",
      "              precision    recall  f1-score   support\n",
      "\n",
      "           1       0.95      0.97      0.96       497\n",
      "           2       0.73      0.68      0.71        88\n",
      "           3       0.89      0.75      0.82        53\n",
      "\n",
      "    accuracy                           0.91       638\n",
      "   macro avg       0.86      0.80      0.83       638\n",
      "weighted avg       0.91      0.91      0.91       638\n",
      " \n",
      "\n",
      "****************************** XGBClassifier ******************************\n",
      "\n"
     ]
    },
    {
     "data": {
      "image/png": "[encoded data removed]",
      "text/plain": [
       "<Figure size 432x288 with 2 Axes>"
      ]
     },
     "metadata": {
      "needs_background": "light"
     },
     "output_type": "display_data"
    },
    {
     "name": "stdout",
     "output_type": "stream",
     "text": [
      "\n",
      "\n",
      "              precision    recall  f1-score   support\n",
      "\n",
      "           1       0.94      0.97      0.95       497\n",
      "           2       0.83      0.66      0.73        88\n",
      "           3       0.85      0.89      0.87        53\n",
      "\n",
      "    accuracy                           0.92       638\n",
      "   macro avg       0.87      0.84      0.85       638\n",
      "weighted avg       0.92      0.92      0.92       638\n",
      " \n",
      "\n"
     ]
    }
   ],
   "source": [
    "# training and testing CTG meachine only data with the classifiers\n",
    "\n",
    "for clf in (dc_clf, rnd_clf, svm_clf, xgb_clf):\n",
    "\n",
    "    clf.fit(X_train2, y_train2)# fitting original imbalanced without expert data\n",
    "    y_pred2 = clf.predict(X_test2)\n",
    "    \n",
    "    print(\"******************************\",clf.__class__.__name__,\"******************************\\n\")\n",
    "    \n",
    "    cf_matrix = confusion_matrix(y_test2,y_pred2)\n",
    "    ax = sns.heatmap(cf_matrix, annot=True, fmt='g', ax=None, cmap='Blues')\n",
    "    #ax.set_title('Seaborn Confusion Matrix with labels\\n\\n');\n",
    "    ax.set_xlabel('\\nPredicted Values')\n",
    "    ax.set_ylabel('Actual Values ');\n",
    "\n",
    "    ## Ticket labels - List must be in alphabetical order\n",
    "    ax.xaxis.set_ticklabels(['normal', 'suspect','pathologic'])\n",
    "    ax.yaxis.set_ticklabels(['normal', 'suspect','pathologic'])\n",
    "\n",
    "    ## Display the visualization of the Confusion Matrix.\n",
    "    plt.show()\n",
    "    print(\"\\n\")\n",
    "    \n",
    "    #print(clf.__class__.__name__, accuracy_score(y_test, y_pred))\n",
    "    #print(clf.__class__.__name__, recall_score(y_test,y_pred,average=\"weighted\"))\n",
    "    #print(clf.__class__.__name__, precision_score(y_test,y_pred,average='weighted'))\n",
    "    print( classification_report(y_test2,y_pred2),\"\\n\")   "
   ]
  },
  {
   "cell_type": "code",
   "execution_count": 14,
   "id": "9cf0fac8",
   "metadata": {},
   "outputs": [],
   "source": [
    "# HYPER PARAMETER TUNING USING SMOTE-NC UPSAMPLING OF EACH FOLD IN A 10 X CROSS VALIDATION MODEL RANDOM FOREST\n",
    "\n",
    "# change rand ints, fix to stratified 10 folds, upsample using smote nc\n",
    "# change optimizing by validation score F1 "
   ]
  },
  {
   "cell_type": "code",
   "execution_count": 15,
   "id": "179a79c0",
   "metadata": {},
   "outputs": [],
   "source": [
    "# function to upsample each fold using SMOTE-NC and 10 x cross validate\n",
    "\n",
    "def score_model(model, X_train, y_train, params, cv):\n",
    "    \"\"\"\n",
    "    Creates folds manually, and upsamples within each fold.\n",
    "    Returns an array of validation (recall) scores\n",
    "    \"\"\"\n",
    "\n",
    "    smoter = SMOTENC(categorical_features=[20], random_state=12) # over sampling using SMOTE-NC\n",
    "  \n",
    "    scores = []\n",
    "\n",
    "    for train_fold_index, val_fold_index in cv.split(X_train, y_train): \n",
    "        # Get the training data\n",
    "        X_train_fold, y_train_fold = X_train.iloc[train_fold_index], y_train.iloc[train_fold_index]\n",
    "        # Get the validation data\n",
    "        X_val_fold, y_val_fold = X_train.iloc[val_fold_index], y_train.iloc[val_fold_index]\n",
    "\n",
    "        # Upsample only the data in the training fold \n",
    "        X_train_fold_upsample, y_train_fold_upsample = smoter.fit_resample(X_train_fold, y_train_fold)\n",
    "        # Fit the model on the upsampled training data\n",
    "        model_obj = model(**params).fit(X_train_fold_upsample, y_train_fold_upsample)\n",
    "        y_val_fold_pred = model_obj.predict(X_val_fold)\n",
    "        \n",
    "        # Score(f1) the model on the (non-upsampled) validation data\n",
    "\n",
    "        score = f1_score(y_val_fold, y_val_fold_pred, average=None)[2]      \n",
    "        scores.append(score)\n",
    "    return np.array(scores)"
   ]
  },
  {
   "cell_type": "code",
   "execution_count": 16,
   "id": "02d73080",
   "metadata": {},
   "outputs": [],
   "source": [
    "# creating same folds everytime, 10 x fold\n",
    "\n",
    "kf = StratifiedKFold(n_splits=10, random_state=None, shuffle=False)\n",
    "#kf = KFold(n_splits=5, random_state=None, shuffle=False)"
   ]
  },
  {
   "cell_type": "code",
   "execution_count": 17,
   "id": "fd0e9656",
   "metadata": {},
   "outputs": [],
   "source": [
    "# defining some hyper parameters to test\n",
    "\n",
    "params = {\n",
    "    'n_estimators': [50, 100, 200],\n",
    "    'max_depth': [4, 6, 10, 12],\n",
    "}"
   ]
  },
  {
   "cell_type": "code",
   "execution_count": 19,
   "id": "03a8ee28",
   "metadata": {},
   "outputs": [],
   "source": [
    "# getting the model best hyper parameters data\n",
    "\n",
    "#score_model(RandomForestClassifier, example_params, cv=kf)\n",
    "\n",
    "score_tracker = []\n",
    "for n_estimators in params['n_estimators']:\n",
    "    for max_depth in params['max_depth']:\n",
    "        example_params = {\n",
    "            'n_estimators': n_estimators,\n",
    "            'max_depth': max_depth,\n",
    "            'random_state': 13\n",
    "        }\n",
    "        example_params['f1'] = score_model(RandomForestClassifier, X_train2, y_train2, example_params, kf).mean()\n",
    "        score_tracker.append(example_params)"
   ]
  },
  {
   "cell_type": "code",
   "execution_count": 20,
   "id": "24aae10d",
   "metadata": {},
   "outputs": [
    {
     "name": "stdout",
     "output_type": "stream",
     "text": [
      "{'n_estimators': 100, 'max_depth': 10, 'random_state': 13, 'f1': 0.9342931995540692}\n"
     ]
    }
   ],
   "source": [
    "# What's the best model?\n",
    "best_ps=sorted(score_tracker, key=lambda x: x['f1'], reverse=True)[0]\n",
    "print(best_ps)"
   ]
  },
  {
   "cell_type": "code",
   "execution_count": 22,
   "id": "bc70cd45",
   "metadata": {},
   "outputs": [],
   "source": [
    "# TESTING ON TEST DATA WITH OPTIMIZED PARAMETERS"
   ]
  },
  {
   "cell_type": "code",
   "execution_count": 23,
   "id": "c708bc5a",
   "metadata": {},
   "outputs": [],
   "source": [
    "# hyperparameter optimized rf model\n",
    "\n",
    "rf = RandomForestClassifier(n_estimators=best_ps.get(\"n_estimators\"), max_depth=best_ps.get(\"max_depth\"), random_state=9) "
   ]
  },
  {
   "cell_type": "code",
   "execution_count": 24,
   "id": "95cc3949",
   "metadata": {},
   "outputs": [],
   "source": [
    "# fitting the optimized model to the entire upsampled train set\n",
    "\n",
    "smote_nc = SMOTENC(categorical_features=[20], random_state=15)\n",
    "X_train_upsample, y_train_upsample = smote_nc.fit_resample(X_train2, y_train2)"
   ]
  },
  {
   "cell_type": "code",
   "execution_count": 25,
   "id": "41c30903",
   "metadata": {
    "scrolled": true
   },
   "outputs": [
    {
     "name": "stdout",
     "output_type": "stream",
     "text": [
      "****************************** RandomForestClassifier 100% train upsampling ******************************\n",
      "\n"
     ]
    },
    {
     "data": {
      "image/png": "[encoded data removed]",
      "text/plain": [
       "<Figure size 432x288 with 2 Axes>"
      ]
     },
     "metadata": {
      "needs_background": "light"
     },
     "output_type": "display_data"
    },
    {
     "name": "stdout",
     "output_type": "stream",
     "text": [
      "\n",
      "\n",
      "              precision    recall  f1-score   support\n",
      "\n",
      "           1       0.97      0.94      0.95       497\n",
      "           2       0.71      0.82      0.76        88\n",
      "           3       0.89      0.94      0.92        53\n",
      "\n",
      "    accuracy                           0.92       638\n",
      "   macro avg       0.86      0.90      0.88       638\n",
      "weighted avg       0.93      0.92      0.92       638\n",
      " \n",
      "\n"
     ]
    }
   ],
   "source": [
    "#fitting fully balanced over sampled train set and results\n",
    "\n",
    "rf.fit(X_train_upsample, y_train_upsample)\n",
    "y_pred2 = rf.predict(X_test2)\n",
    "\n",
    "print(\"******************************\",rf.__class__.__name__,\"100% train upsampling ******************************\\n\")\n",
    "cf_matrix = confusion_matrix(y_test2,y_pred2)\n",
    "ax = sns.heatmap(cf_matrix, annot=True, fmt='g', ax=None, cmap='Blues')\n",
    "#ax.set_title('Seaborn Confusion Matrix with labels\\n\\n');\n",
    "ax.set_xlabel('\\nPredicted Values')\n",
    "ax.set_ylabel('Actual Values ');\n",
    "\n",
    "## Ticket labels - List must be in alphabetical order\n",
    "ax.xaxis.set_ticklabels(['normal', 'suspect','pathologic'])\n",
    "ax.yaxis.set_ticklabels(['normal', 'suspect','pathologic'])\n",
    "\n",
    "## Display the visualization of the Confusion Matrix.\n",
    "plt.show()\n",
    "print(\"\\n\")\n",
    "    \n",
    "#print(clf.__class__.__name__, accuracy_score(y_test, y_pred))\n",
    "#print(clf.__class__.__name__, recall_score(y_test,y_pred,average=\"weighted\"))\n",
    "#print(clf.__class__.__name__, precision_score(y_test,y_pred,average='weighted'))\n",
    "print( classification_report(y_test2,y_pred2),\"\\n\")   "
   ]
  },
  {
   "cell_type": "code",
   "execution_count": 26,
   "id": "fd07540c",
   "metadata": {},
   "outputs": [
    {
     "name": "stdout",
     "output_type": "stream",
     "text": [
      "Number of instances of NSP = 3 desired in the training data is 537.0 to maintain an imbalance stat of 0.39\n"
     ]
    }
   ],
   "source": [
    "# how much imbalance is ok for upsampling?\n",
    "\n",
    "C=3\n",
    "\n",
    "tTdata=len(y_train2)\n",
    "\n",
    "tn1=len(y_train.index[y_train2.eq(1)])\n",
    "tn2=len(y_train.index[y_train2.eq(2)])\n",
    "tn3=len(y_train.index[y_train2.eq(3)])\n",
    "\n",
    "timbalanceStat=abs(((1/C)-(tn1/tTdata)))+abs(((1/C)-(tn2/tTdata)))+abs(((1/C)-(tn3/tTdata)))\n",
    "\n",
    "imbalanceStatDesired=0.39\n",
    "\n",
    "# assuming desired n2 = n3\n",
    "desired_n3 = -(((imbalanceStatDesired-abs(1/C-tn1/tTdata))/2)-1/C)*tTdata\n",
    "\n",
    "\n",
    "print(\"Number of instances of NSP = 3 desired in the training data is\",round(desired_n3,0),\"to maintain an imbalance stat of\",imbalanceStatDesired)\n",
    "\n"
   ]
  },
  {
   "cell_type": "code",
   "execution_count": 27,
   "id": "c8424bff",
   "metadata": {},
   "outputs": [],
   "source": [
    "#changing/reducing upsampling amount for class 2 and 3\n",
    "\n",
    "N = int(tn1 - desired_n3)\n",
    "np.random.seed(1100)\n",
    "drop2=np.random.choice(y_train_upsample.index[y_train_upsample.eq(2)],N, replace=False)\n",
    "                     \n",
    "X_train_less_up_2 = X_train_upsample.drop(drop2)\n",
    "y_train_less_up_2 = y_train_upsample.drop(drop2)\n",
    "                     \n",
    "drop3=np.random.choice(y_train_less_up_2.index[y_train_less_up_2.eq(3)],N, replace=False)\n",
    "                     \n",
    "X_train_upsample_less = X_train_less_up_2.drop(drop3)\n",
    "y_train_upsample__less = y_train_less_up_2.drop(drop3)"
   ]
  },
  {
   "cell_type": "code",
   "execution_count": 28,
   "id": "c482c215",
   "metadata": {},
   "outputs": [
    {
     "data": {
      "text/plain": [
       "1158"
      ]
     },
     "execution_count": 28,
     "metadata": {},
     "output_type": "execute_result"
    }
   ],
   "source": [
    "y_train_upsample__less.eq(1).sum()  # checking whether the desirer number of oversampled data were obtained"
   ]
  },
  {
   "cell_type": "code",
   "execution_count": 29,
   "id": "e107b03e",
   "metadata": {},
   "outputs": [
    {
     "data": {
      "text/plain": [
       "537"
      ]
     },
     "execution_count": 29,
     "metadata": {},
     "output_type": "execute_result"
    }
   ],
   "source": [
    "y_train_upsample__less.eq(3).sum()  # checking whether the desirer number of oversampled data were obtained"
   ]
  },
  {
   "cell_type": "code",
   "execution_count": 30,
   "id": "14d0a202",
   "metadata": {
    "scrolled": true
   },
   "outputs": [
    {
     "name": "stdout",
     "output_type": "stream",
     "text": [
      "****************************** RandomForestClassifier 0.39 train imbalance upsampling ******************************\n",
      "\n"
     ]
    },
    {
     "data": {
      "image/png": "[encoded data removed]",
      "text/plain": [
       "<Figure size 432x288 with 2 Axes>"
      ]
     },
     "metadata": {
      "needs_background": "light"
     },
     "output_type": "display_data"
    },
    {
     "name": "stdout",
     "output_type": "stream",
     "text": [
      "\n",
      "\n",
      "              precision    recall  f1-score   support\n",
      "\n",
      "           1       0.96      0.97      0.96       497\n",
      "           2       0.80      0.75      0.77        88\n",
      "           3       0.93      0.94      0.93        53\n",
      "\n",
      "    accuracy                           0.94       638\n",
      "   macro avg       0.89      0.89      0.89       638\n",
      "weighted avg       0.93      0.94      0.94       638\n",
      " \n",
      "\n"
     ]
    }
   ],
   "source": [
    "#fitting reduced over sampled train set and results\n",
    "\n",
    "rf.fit(X_train_upsample_less, y_train_upsample__less)\n",
    "y_pred2 = rf.predict(X_test2)\n",
    "\n",
    "print(\"******************************\",rf.__class__.__name__,imbalanceStatDesired,\"train imbalance upsampling ******************************\\n\")\n",
    "\n",
    "cf_matrix = confusion_matrix(y_test2,y_pred2)\n",
    "ax = sns.heatmap(cf_matrix, annot=True, fmt='g', ax=None, cmap='Blues')\n",
    "#ax.set_title('Seaborn Confusion Matrix with labels\\n\\n');\n",
    "ax.set_xlabel('\\nPredicted Values')\n",
    "ax.set_ylabel('Actual Values ');\n",
    "\n",
    "## Ticket labels - List must be in alphabetical order\n",
    "ax.xaxis.set_ticklabels(['normal', 'suspect','pathologic'])\n",
    "ax.yaxis.set_ticklabels(['normal', 'suspect','pathologic'])\n",
    "\n",
    "## Display the visualization of the Confusion Matrix.\n",
    "plt.show()\n",
    "print(\"\\n\")\n",
    "    \n",
    "#print(clf.__class__.__name__, accuracy_score(y_test, y_pred))\n",
    "#print(clf.__class__.__name__, recall_score(y_test,y_pred,average=\"weighted\"))\n",
    "#print(clf.__class__.__name__, precision_score(y_test,y_pred,average='weighted'))\n",
    "print( classification_report(y_test2,y_pred2),\"\\n\")   "
   ]
  }
 ],
 "metadata": {
  "kernelspec": {
   "display_name": "Python 3 (ipykernel)",
   "language": "python",
   "name": "python3"
  },
  "language_info": {
   "codemirror_mode": {
    "name": "ipython",
    "version": 3
   },
   "file_extension": ".py",
   "mimetype": "text/x-python",
   "name": "python",
   "nbconvert_exporter": "python",
   "pygments_lexer": "ipython3",
   "version": "3.9.7"
  }
 },
 "nbformat": 4,
 "nbformat_minor": 5
}
