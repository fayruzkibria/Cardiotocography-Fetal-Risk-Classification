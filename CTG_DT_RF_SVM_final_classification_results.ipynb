{
 "cells": [
  {
   "cell_type": "code",
   "execution_count": 124,
   "id": "4e1f4e8e",
   "metadata": {},
   "outputs": [],
   "source": [
    "import pandas as pd\n",
    "import numpy as np\n",
    "import math\n",
    "\n",
    "from scipy import stats\n",
    "from scipy.stats import reciprocal, uniform\n",
    "\n",
    "import seaborn as sns\n",
    "import matplotlib.pyplot as plt\n",
    "\n",
    "import plotnine\n",
    "from plotnine import *\n",
    "from plotnine.data import *\n",
    "%matplotlib inline\n",
    "\n",
    "from sklearn.preprocessing import StandardScaler, MinMaxScaler\n",
    "from sklearn.model_selection import train_test_split, KFold, StratifiedKFold\n",
    "from sklearn import preprocessing\n",
    "from sklearn.utils import shuffle, resample\n",
    "from sklearn.model_selection import RandomizedSearchCV, GridSearchCV, cross_val_score, cross_validate\n",
    "\n",
    "from imblearn.pipeline import Pipeline, make_pipeline\n",
    "from imblearn.over_sampling import SMOTENC , RandomOverSampler\n",
    "from imblearn.under_sampling import RandomUnderSampler\n",
    "from collections import Counter\n",
    "\n",
    "from sklearn import tree\n",
    "from sklearn.tree import DecisionTreeClassifier\n",
    "from sklearn.ensemble import RandomForestClassifier\n",
    "from sklearn.svm import SVC\n",
    "\n",
    "from sklearn import metrics\n",
    "from sklearn.metrics import ConfusionMatrixDisplay, confusion_matrix, precision_recall_fscore_support, make_scorer\n",
    "from sklearn.metrics import accuracy_score, precision_score, f1_score, recall_score, roc_curve, roc_auc_score\n",
    "from sklearn.metrics import classification_report\n",
    "\n",
    "from xgboost import XGBClassifier\n",
    "import warnings\n",
    "warnings.filterwarnings(\"ignore\")\n",
    "\n",
    "import time\n",
    "\n",
    "from statsmodels.stats.contingency_tables import mcnemar\n"
   ]
  },
  {
   "cell_type": "markdown",
   "id": "725194c2",
   "metadata": {},
   "source": [
    "## Importing dataframe and making a 70/30 test train split and running a decision tree to get baseline parameters"
   ]
  },
  {
   "cell_type": "markdown",
   "id": "594bc2a8",
   "metadata": {},
   "source": [
    "### Import dataset after initial processing form R"
   ]
  },
  {
   "cell_type": "code",
   "execution_count": 3,
   "id": "bae8aea3",
   "metadata": {},
   "outputs": [],
   "source": [
    "mydata0 = pd.read_csv(\"no_norm_df.csv\")\n",
    "mydata1 = pd.read_csv(\"norm_df.csv\")\n",
    "\n",
    "mydata_no_norm=mydata0.copy()\n",
    "mydata_norm=mydata1.copy()"
   ]
  },
  {
   "cell_type": "code",
   "execution_count": 4,
   "id": "1c42a9e3",
   "metadata": {},
   "outputs": [
    {
     "name": "stdout",
     "output_type": "stream",
     "text": [
      "<class 'pandas.core.frame.DataFrame'>\n",
      "RangeIndex: 2126 entries, 0 to 2125\n",
      "Data columns (total 34 columns):\n",
      " #   Column    Non-Null Count  Dtype  \n",
      "---  ------    --------------  -----  \n",
      " 0   LB        2126 non-null   int64  \n",
      " 1   AC        2126 non-null   int64  \n",
      " 2   FM        2126 non-null   int64  \n",
      " 3   UC        2126 non-null   int64  \n",
      " 4   ASTV      2126 non-null   int64  \n",
      " 5   MSTV      2126 non-null   float64\n",
      " 6   ALTV      2126 non-null   int64  \n",
      " 7   MLTV      2126 non-null   float64\n",
      " 8   DL        2126 non-null   int64  \n",
      " 9   DS        2126 non-null   int64  \n",
      " 10  DP        2126 non-null   int64  \n",
      " 11  Width     2126 non-null   int64  \n",
      " 12  Min       2126 non-null   int64  \n",
      " 13  Max       2126 non-null   int64  \n",
      " 14  Nmax      2126 non-null   int64  \n",
      " 15  Nzeros    2126 non-null   int64  \n",
      " 16  Mode      2126 non-null   int64  \n",
      " 17  Mean      2126 non-null   int64  \n",
      " 18  Median    2126 non-null   int64  \n",
      " 19  Variance  2126 non-null   int64  \n",
      " 20  nPoints   2126 non-null   int64  \n",
      " 21  Tendency  2126 non-null   int64  \n",
      " 22  A         2126 non-null   int64  \n",
      " 23  B         2126 non-null   int64  \n",
      " 24  C         2126 non-null   int64  \n",
      " 25  D         2126 non-null   int64  \n",
      " 26  E         2126 non-null   int64  \n",
      " 27  AD        2126 non-null   int64  \n",
      " 28  DE        2126 non-null   int64  \n",
      " 29  LD        2126 non-null   int64  \n",
      " 30  FS        2126 non-null   int64  \n",
      " 31  SUSP      2126 non-null   int64  \n",
      " 32  CLASS     2126 non-null   int64  \n",
      " 33  NSP       2126 non-null   int64  \n",
      "dtypes: float64(2), int64(32)\n",
      "memory usage: 564.8 KB\n"
     ]
    }
   ],
   "source": [
    "mydata_no_norm.info()"
   ]
  },
  {
   "cell_type": "markdown",
   "id": "9c545aa2",
   "metadata": {},
   "source": [
    "### defining the label column, defining the feature columns"
   ]
  },
  {
   "cell_type": "code",
   "execution_count": 5,
   "id": "cd8d4914",
   "metadata": {},
   "outputs": [],
   "source": [
    "label_col=mydata_no_norm['NSP'] \n",
    "data_col=mydata_no_norm.iloc[:, 0:33]  "
   ]
  },
  {
   "cell_type": "markdown",
   "id": "73c9a25a",
   "metadata": {},
   "source": [
    "### splitting data into test train 70/30 split"
   ]
  },
  {
   "cell_type": "code",
   "execution_count": 6,
   "id": "dfb3d0b6",
   "metadata": {},
   "outputs": [],
   "source": [
    "X_train,X_test,y_train,y_test=train_test_split(data_col,label_col,test_size=0.3 ,random_state=42, stratify=label_col)"
   ]
  },
  {
   "cell_type": "code",
   "execution_count": 7,
   "id": "2d0adc23",
   "metadata": {},
   "outputs": [],
   "source": [
    "X_y_train_combined = pd.concat([X_train,y_train], axis=1) # combining independent and feature variables to write csv\n",
    "X_y_test_combined = pd.concat([X_test,y_test], axis=1)\n",
    "X_y_train_combined.to_csv('X_y_train_combined.csv',index=False) # writing csv to export back to R\n",
    "X_y_test_combined.to_csv('X_y_test_combined.csv',index=False)"
   ]
  },
  {
   "cell_type": "markdown",
   "id": "c6608f41",
   "metadata": {},
   "source": [
    "### defining decision tree with standard hyperparameters"
   ]
  },
  {
   "cell_type": "code",
   "execution_count": 8,
   "id": "487ba567",
   "metadata": {},
   "outputs": [],
   "source": [
    "dc_clf = tree.DecisionTreeClassifier(max_depth=5)"
   ]
  },
  {
   "cell_type": "markdown",
   "id": "c089620c",
   "metadata": {},
   "source": [
    "### fitting original imbalanced data to decision tree"
   ]
  },
  {
   "cell_type": "code",
   "execution_count": 9,
   "id": "3587388c",
   "metadata": {},
   "outputs": [],
   "source": [
    "dc_clf.fit(X_train, y_train)\n",
    "y_pred = dc_clf.predict(X_test)"
   ]
  },
  {
   "cell_type": "markdown",
   "id": "e0760153",
   "metadata": {},
   "source": [
    "### plotting the confusion matrix, and classification report"
   ]
  },
  {
   "cell_type": "code",
   "execution_count": 10,
   "id": "5fb1fb96",
   "metadata": {},
   "outputs": [
    {
     "name": "stdout",
     "output_type": "stream",
     "text": [
      "****************************** DecisionTreeClassifier ******************************\n",
      "\n"
     ]
    },
    {
     "data": {
      "image/png": "[encoded data removed]",
      "text/plain": [
       "<Figure size 432x288 with 2 Axes>"
      ]
     },
     "metadata": {
      "needs_background": "light"
     },
     "output_type": "display_data"
    },
    {
     "name": "stdout",
     "output_type": "stream",
     "text": [
      "\n",
      "\n",
      "              precision    recall  f1-score   support\n",
      "\n",
      "           1       0.98      1.00      0.99       497\n",
      "           2       0.97      0.89      0.93        88\n",
      "           3       1.00      1.00      1.00        53\n",
      "\n",
      "    accuracy                           0.98       638\n",
      "   macro avg       0.99      0.96      0.97       638\n",
      "weighted avg       0.98      0.98      0.98       638\n",
      " \n",
      "\n"
     ]
    }
   ],
   "source": [
    "    \n",
    "print(\"******************************\",dc_clf.__class__.__name__,\"******************************\\n\")\n",
    "\n",
    "# create confusion matrix\n",
    "\n",
    "cf_matrix = confusion_matrix(y_test,y_pred)\n",
    "ax = sns.heatmap(cf_matrix, annot=True, fmt='g', ax=None, cmap='Blues')\n",
    "ax.set_xlabel('\\nPredicted Values')\n",
    "ax.set_ylabel('Actual Values ');\n",
    "\n",
    "## Ticket labels - List must be in alphabetical order\n",
    "ax.xaxis.set_ticklabels(['normal', 'suspect','pathologic'])\n",
    "ax.yaxis.set_ticklabels(['normal', 'suspect','pathologic'])\n",
    "\n",
    "## Display the visualization of the Confusion Matrix.\n",
    "\n",
    "plt.show()\n",
    "print(\"\\n\")\n",
    "print( classification_report(y_test,y_pred),\"\\n\")  "
   ]
  },
  {
   "cell_type": "markdown",
   "id": "a9ae2a95",
   "metadata": {},
   "source": [
    "## Since the data set has perfect f1 and recall for class 3, the morphological classification columns by experts and the machine reported numbers are investigated seperately"
   ]
  },
  {
   "cell_type": "markdown",
   "id": "c821969f",
   "metadata": {},
   "source": [
    "### Investigating morphological parameters first"
   ]
  },
  {
   "cell_type": "code",
   "execution_count": 11,
   "id": "85df34b5",
   "metadata": {},
   "outputs": [
    {
     "name": "stdout",
     "output_type": "stream",
     "text": [
      "<class 'pandas.core.frame.DataFrame'>\n",
      "RangeIndex: 2126 entries, 0 to 2125\n",
      "Data columns (total 11 columns):\n",
      " #   Column  Non-Null Count  Dtype\n",
      "---  ------  --------------  -----\n",
      " 0   A       2126 non-null   int64\n",
      " 1   B       2126 non-null   int64\n",
      " 2   C       2126 non-null   int64\n",
      " 3   D       2126 non-null   int64\n",
      " 4   E       2126 non-null   int64\n",
      " 5   AD      2126 non-null   int64\n",
      " 6   DE      2126 non-null   int64\n",
      " 7   LD      2126 non-null   int64\n",
      " 8   FS      2126 non-null   int64\n",
      " 9   SUSP    2126 non-null   int64\n",
      " 10  CLASS   2126 non-null   int64\n",
      "dtypes: int64(11)\n",
      "memory usage: 182.8 KB\n"
     ]
    }
   ],
   "source": [
    "label_col=mydata_no_norm['NSP'] \n",
    "data_col=mydata_no_norm.iloc[:, 22:33]  \n",
    "data_col.info()"
   ]
  },
  {
   "cell_type": "markdown",
   "id": "eb902e1d",
   "metadata": {},
   "source": [
    "### splitting, training and testing morphological data"
   ]
  },
  {
   "cell_type": "code",
   "execution_count": 12,
   "id": "5667f7ff",
   "metadata": {},
   "outputs": [
    {
     "name": "stdout",
     "output_type": "stream",
     "text": [
      "****************************** DecisionTreeClassifier ******************************\n",
      "\n"
     ]
    },
    {
     "data": {
      "image/png": "[encoded data removed]",
      "text/plain": [
       "<Figure size 432x288 with 2 Axes>"
      ]
     },
     "metadata": {
      "needs_background": "light"
     },
     "output_type": "display_data"
    },
    {
     "name": "stdout",
     "output_type": "stream",
     "text": [
      "\n",
      "\n",
      "              precision    recall  f1-score   support\n",
      "\n",
      "           1       0.97      1.00      0.99       497\n",
      "           2       1.00      0.84      0.91        88\n",
      "           3       1.00      1.00      1.00        53\n",
      "\n",
      "    accuracy                           0.98       638\n",
      "   macro avg       0.99      0.95      0.97       638\n",
      "weighted avg       0.98      0.98      0.98       638\n",
      " \n",
      "\n"
     ]
    }
   ],
   "source": [
    "X_train,X_test,y_train,y_test=train_test_split(data_col,label_col,test_size=0.3 ,random_state=42, stratify=label_col)\n",
    "\n",
    "#dc_clf = tree.DecisionTreeClassifier(max_depth=5)\n",
    "\n",
    "dc_clf.fit(X_train, y_train)\n",
    "y_pred = dc_clf.predict(X_test)\n",
    "\n",
    "print(\"******************************\",dc_clf.__class__.__name__,\"******************************\\n\")\n",
    "\n",
    "# create confusion matrix\n",
    "\n",
    "cf_matrix = confusion_matrix(y_test,y_pred)\n",
    "ax = sns.heatmap(cf_matrix, annot=True, fmt='g', ax=None, cmap='Blues')\n",
    "ax.set_xlabel('\\nPredicted Values')\n",
    "ax.set_ylabel('Actual Values ');\n",
    "\n",
    "## Ticket labels - List must be in alphabetical order\n",
    "ax.xaxis.set_ticklabels(['normal', 'suspect','pathologic'])\n",
    "ax.yaxis.set_ticklabels(['normal', 'suspect','pathologic'])\n",
    "\n",
    "## Display the visualization of the Confusion Matrix.\n",
    "\n",
    "plt.show()\n",
    "print(\"\\n\")\n",
    "print( classification_report(y_test,y_pred),\"\\n\")  "
   ]
  },
  {
   "cell_type": "markdown",
   "id": "041e5a85",
   "metadata": {},
   "source": [
    "## We can see the morphological data can prodict class 3 with 100% accuracy. This maybe becasue the human morphological classification was heavily weighed on when assigining the final fetal NSP risk category"
   ]
  },
  {
   "cell_type": "markdown",
   "id": "ef1902e6",
   "metadata": {},
   "source": [
    "### Now investigating the machine reported parameters only"
   ]
  },
  {
   "cell_type": "code",
   "execution_count": 13,
   "id": "0ecba940",
   "metadata": {},
   "outputs": [
    {
     "name": "stdout",
     "output_type": "stream",
     "text": [
      "<class 'pandas.core.frame.DataFrame'>\n",
      "RangeIndex: 2126 entries, 0 to 2125\n",
      "Data columns (total 22 columns):\n",
      " #   Column    Non-Null Count  Dtype  \n",
      "---  ------    --------------  -----  \n",
      " 0   LB        2126 non-null   int64  \n",
      " 1   AC        2126 non-null   int64  \n",
      " 2   FM        2126 non-null   int64  \n",
      " 3   UC        2126 non-null   int64  \n",
      " 4   ASTV      2126 non-null   int64  \n",
      " 5   MSTV      2126 non-null   float64\n",
      " 6   ALTV      2126 non-null   int64  \n",
      " 7   MLTV      2126 non-null   float64\n",
      " 8   DL        2126 non-null   int64  \n",
      " 9   DS        2126 non-null   int64  \n",
      " 10  DP        2126 non-null   int64  \n",
      " 11  Width     2126 non-null   int64  \n",
      " 12  Min       2126 non-null   int64  \n",
      " 13  Max       2126 non-null   int64  \n",
      " 14  Nmax      2126 non-null   int64  \n",
      " 15  Nzeros    2126 non-null   int64  \n",
      " 16  Mode      2126 non-null   int64  \n",
      " 17  Mean      2126 non-null   int64  \n",
      " 18  Median    2126 non-null   int64  \n",
      " 19  Variance  2126 non-null   int64  \n",
      " 20  nPoints   2126 non-null   int64  \n",
      " 21  Tendency  2126 non-null   int64  \n",
      "dtypes: float64(2), int64(20)\n",
      "memory usage: 365.5 KB\n"
     ]
    }
   ],
   "source": [
    "label_col=mydata_no_norm['NSP'] \n",
    "data_col=mydata_no_norm.iloc[:, 0:22]  \n",
    "data_col.info()"
   ]
  },
  {
   "cell_type": "markdown",
   "id": "eb7b7247",
   "metadata": {},
   "source": [
    "### splitting, training and testing machine reported data"
   ]
  },
  {
   "cell_type": "code",
   "execution_count": 51,
   "id": "01a077de",
   "metadata": {},
   "outputs": [
    {
     "name": "stdout",
     "output_type": "stream",
     "text": [
      "****************************** DecisionTreeClassifier ******************************\n",
      "\n"
     ]
    },
    {
     "data": {
      "image/png": "[encoded data removed]",
      "text/plain": [
       "<Figure size 432x288 with 2 Axes>"
      ]
     },
     "metadata": {
      "needs_background": "light"
     },
     "output_type": "display_data"
    },
    {
     "name": "stdout",
     "output_type": "stream",
     "text": [
      "\n",
      "\n",
      "              precision    recall  f1-score   support\n",
      "\n",
      "           1       0.91      0.98      0.95       497\n",
      "           2       0.85      0.51      0.64        88\n",
      "           3       0.92      0.83      0.87        53\n",
      "\n",
      "    accuracy                           0.91       638\n",
      "   macro avg       0.89      0.78      0.82       638\n",
      "weighted avg       0.90      0.91      0.90       638\n",
      " \n",
      "\n",
      "****************************** RandomForestClassifier ******************************\n",
      "\n"
     ]
    },
    {
     "data": {
      "image/png": "[encoded data removed]",
      "text/plain": [
       "<Figure size 432x288 with 2 Axes>"
      ]
     },
     "metadata": {
      "needs_background": "light"
     },
     "output_type": "display_data"
    },
    {
     "name": "stdout",
     "output_type": "stream",
     "text": [
      "\n",
      "\n",
      "              precision    recall  f1-score   support\n",
      "\n",
      "           1       0.91      0.98      0.95       497\n",
      "           2       0.85      0.51      0.64        88\n",
      "           3       0.92      0.83      0.87        53\n",
      "\n",
      "    accuracy                           0.91       638\n",
      "   macro avg       0.89      0.78      0.82       638\n",
      "weighted avg       0.90      0.91      0.90       638\n",
      " \n",
      "\n",
      "****************************** SVC ******************************\n",
      "\n"
     ]
    },
    {
     "data": {
      "image/png": "[encoded data removed]",
      "text/plain": [
       "<Figure size 432x288 with 2 Axes>"
      ]
     },
     "metadata": {
      "needs_background": "light"
     },
     "output_type": "display_data"
    },
    {
     "name": "stdout",
     "output_type": "stream",
     "text": [
      "\n",
      "\n",
      "              precision    recall  f1-score   support\n",
      "\n",
      "           1       0.91      0.98      0.95       497\n",
      "           2       0.85      0.51      0.64        88\n",
      "           3       0.92      0.83      0.87        53\n",
      "\n",
      "    accuracy                           0.91       638\n",
      "   macro avg       0.89      0.78      0.82       638\n",
      "weighted avg       0.90      0.91      0.90       638\n",
      " \n",
      "\n"
     ]
    }
   ],
   "source": [
    "\n",
    "X_train,X_test,y_train,y_test=train_test_split(data_col,label_col,test_size=0.3 ,random_state=42, stratify=label_col)\n",
    "\n",
    "dc_clf = tree.DecisionTreeClassifier()\n",
    "rnd_clf=RandomForestClassifier()\n",
    "svm_clf=SVC()\n",
    "\n",
    "# training and testing CTG meachine only data with the classifiers\n",
    "\n",
    "for clf in (dc_clf, rnd_clf, svm_clf):#, xgb_clf):\n",
    "\n",
    "    clf.fit(X_train, y_train)# fitting original imbalanced without expert data\n",
    "    y_pred2 = clf.predict(X_test)\n",
    "    \n",
    "    print(\"******************************\",clf.__class__.__name__,\"******************************\\n\")\n",
    "    \n",
    "    cf_matrix = confusion_matrix(y_test,y_pred)\n",
    "    ax = sns.heatmap(cf_matrix, annot=True, fmt='g', ax=None, cmap='Blues')\n",
    "    #ax.set_title('Seaborn Confusion Matrix with labels\\n\\n');\n",
    "    ax.set_xlabel('\\nPredicted Values')\n",
    "    ax.set_ylabel('Actual Values ');\n",
    "\n",
    "    ## Ticket labels - List must be in alphabetical order\n",
    "    ax.xaxis.set_ticklabels(['normal', 'suspect','pathologic'])\n",
    "    ax.yaxis.set_ticklabels(['normal', 'suspect','pathologic'])\n",
    "\n",
    "    ## Display the visualization of the Confusion Matrix.\n",
    "    plt.show()\n",
    "    print(\"\\n\")\n",
    "    \n",
    "    #print(clf.__class__.__name__, accuracy_score(y_test, y_pred))\n",
    "    #print(clf.__class__.__name__, recall_score(y_test,y_pred,average=\"weighted\"))\n",
    "    #print(clf.__class__.__name__, precision_score(y_test,y_pred,average='weighted'))\n",
    "    print( classification_report(y_test,y_pred),\"\\n\")   "
   ]
  },
  {
   "cell_type": "markdown",
   "id": "9911c864",
   "metadata": {},
   "source": [
    "## We can see the machine data can predict class 3 with 80-89% F1 score and recall in the 80-89%, and overall accuracy in the low 90% when applied without any modification on a simple decision tree"
   ]
  },
  {
   "cell_type": "markdown",
   "id": "6a248517",
   "metadata": {},
   "source": [
    "### So the following steps will consist of optimizing the data and the model\n",
    "\n",
    "## These are functions to preocess the data for classification\n"
   ]
  },
  {
   "cell_type": "markdown",
   "id": "ba399290",
   "metadata": {},
   "source": [
    "### The get imbalanced deired n finction takes in data provides the data imbalabce as out put and also provides the number of samples needed in each class to create a new desired imbalance"
   ]
  },
  {
   "cell_type": "code",
   "execution_count": 15,
   "id": "a5ae3066",
   "metadata": {},
   "outputs": [],
   "source": [
    "def get_imbalance_desired_n(y_train, imbalance_desired):\n",
    "    \"\"\"\n",
    "    Outputs the number of total target class instances that needed after upsampling to maintain \n",
    "    the desired imbalance.\n",
    "    \"\"\"\n",
    "    C=3\n",
    "    tTdata=len(y_train)\n",
    "\n",
    "    tn1=len(y_train.index[y_train.eq(1)])\n",
    "    tn2=len(y_train.index[y_train.eq(2)])\n",
    "    tn3=len(y_train.index[y_train.eq(3)])\n",
    "    \n",
    "    timbalanceStat=abs(((1/C)-(tn1/tTdata)))+abs(((1/C)-(tn2/tTdata)))+abs(((1/C)-(tn3/tTdata)))\n",
    "\n",
    "    # assuming desired n2 = n3\n",
    "    desired_n3 = -(((imbalance_desired-abs(1/C-tn1/tTdata))/2)-1/C)*tTdata\n",
    "    #print(\"Number of instances of NSP = 3 desired in the training data is\",round(desired_n3,0),\"to maintain an imbalance stat of\",imbalanceStatDesired)\n",
    "    #fraction = desired_n3/tn1\n",
    "    return(timbalanceStat, int(tn1), int(max(tn2,round(desired_n3,0))), int(max(tn3,round(desired_n3,0))))"
   ]
  },
  {
   "cell_type": "markdown",
   "id": "22f3e736",
   "metadata": {},
   "source": [
    "### The score model function Creates folds based on cv splits, upsamples to desired imbalance within each train fold. Does 10 fold cross validation and reteruns validation scores"
   ]
  },
  {
   "cell_type": "code",
   "execution_count": 17,
   "id": "abfd5730",
   "metadata": {},
   "outputs": [],
   "source": [
    "def score_model(model, X_train, y_train, params, cv, my_rand, sampStrat, imbalance_desired):\n",
    "    \"\"\"\n",
    "    Validation of model Creates folds based on cv splits, upsamples to desired imbalance within each train fold.\n",
    "    Does 10 fold cross validation and reteruns validation scores\n",
    "    Returns an array of validation scores\n",
    "    \"\"\"\n",
    "    _, N1, N2, N3 =get_imbalance_desired_n(y_train, imbalance_desired)\n",
    "    N1=int(math.ceil(N1*9/10))\n",
    "    N2=int(math.ceil(N2*9/10))\n",
    "    N3=int(math.ceil(N3*9/10))\n",
    "    \n",
    "    sampling_strategy1 = {1: N1, 2: N2, 3: N3}\n",
    "    sampling_strategy2 = {1: N2, 2: N2, 3: N3}\n",
    "    \n",
    "    smoter = SMOTENC(sampling_strategy=sampling_strategy1,categorical_features=[20], \n",
    "                     random_state=my_rand+1) # over sampling using SMOTE-NC\n",
    "    rus = RandomUnderSampler(sampling_strategy=sampling_strategy2,random_state=my_rand+1, \n",
    "                             replacement=False)# fit predictor and target variable\n",
    "    ros = RandomOverSampler(sampling_strategy=sampling_strategy1, random_state=my_rand+1)\n",
    "\n",
    "# fit predictor and target variablex_ros, y_ros = ros.fit_resample(x, y)\n",
    "    \n",
    "    foldScoresf1 = []\n",
    "    foldScoresRecall = []\n",
    "    foldScoresPrecision = []\n",
    "    foldScoresAccuracy = []\n",
    "    \n",
    "    for train_fold_index, val_fold_index in cv.split(X_train, y_train): \n",
    "        # Get the training data\n",
    "        X_train_fold, y_train_fold = X_train.iloc[train_fold_index], y_train.iloc[train_fold_index]\n",
    "        # Get the validation data\n",
    "        X_val_fold, y_val_fold = X_train.iloc[val_fold_index], y_train.iloc[val_fold_index]\n",
    "        \n",
    "        if (sampStrat == 'SMOTENC'):\n",
    "            # Upsample only the data in the training fold \n",
    "            X_train_fold_upsample, y_train_fold_upsample = smoter.fit_resample(X_train_fold, y_train_fold)\n",
    "        if (sampStrat == 'rus-ros'):\n",
    "            # Upsample then down sample\n",
    "            X_train_fold_upsample, y_train_fold_upsample = ros.fit_resample(X_train_fold, y_train_fold)         \n",
    "            X_train_fold_upsample, y_train_fold_upsample = rus.fit_resample(X_train_fold_upsample, y_train_fold_upsample)\n",
    "        if (sampStrat == 'ros'):\n",
    "            # Upsample only the data in the training fold \n",
    "            X_train_fold_upsample, y_train_fold_upsample = ros.fit_resample(X_train_fold, y_train_fold)         \n",
    "            \n",
    "        \n",
    "        # Fit the model on the upsampled training data\n",
    "        model_obj = model(**params).fit(X_train_fold_upsample, y_train_fold_upsample)\n",
    "        y_val_fold_pred = model_obj.predict(X_val_fold)\n",
    "        \n",
    "        # Score the model on the (non-upsampled) validation data\n",
    "           \n",
    "        foldScoresf1.append(f1_score(y_val_fold, y_val_fold_pred, average=None)[2])\n",
    "        foldScoresRecall.append(recall_score(y_val_fold, y_val_fold_pred, average=None)[2])\n",
    "        foldScoresPrecision.append(precision_score(y_val_fold, y_val_fold_pred, average=None)[2])\n",
    "        foldScoresAccuracy.append(accuracy_score(y_val_fold, y_val_fold_pred))\n",
    "        #fpr[i], tpr[i], _ = roc_auc_score(y_val_fold, y_val_fold_pred)\n",
    "        \n",
    "\n",
    "    mean_scores=[np.mean(foldScoresf1), np.mean(foldScoresRecall), np.mean(foldScoresAccuracy), \n",
    "                 np.mean(foldScoresPrecision)]   \n",
    "    return np.array(mean_scores)"
   ]
  },
  {
   "cell_type": "markdown",
   "id": "57d1ecb4",
   "metadata": {},
   "source": [
    "### the get opt hyperparam uses grid search loops to get the optimised hyperparameters based on highest 10x cross validation score"
   ]
  },
  {
   "cell_type": "code",
   "execution_count": 18,
   "id": "7866fa8d",
   "metadata": {},
   "outputs": [],
   "source": [
    "def get_opt_hyperparam(clf, X_train, y_train, kf, my_rand,sampStrat, imbalance_desired):\n",
    "    \"\"\"\n",
    "    Creates parameters customized to each model. Assigns parameter values to be investigated.\n",
    "    Calls the score_model function to get validation scores of a 10 x cross validation.\n",
    "    Returns the hyper parameter combinations with best validation score, and the optimized model.\n",
    "    \"\"\"\n",
    "    \n",
    "    if clf.__class__.__name__ == 'DecisionTreeClassifier':\n",
    "        params = {'max_depth': [4, 6, 12],\n",
    "                  'criterion': [\"entropy\"]} \n",
    "        score_tracker = []\n",
    "        for criterion in params['criterion']:\n",
    "            for max_depth in params['max_depth']:\n",
    "                example_params = {'criterion': criterion,'max_depth': max_depth,'random_state': my_rand}    \n",
    "                model_scores = score_model(DecisionTreeClassifier, X_train, y_train, example_params, kf, my_rand,sampStrat, imbalance_desired)                  \n",
    "                example_params['validation precision'] = model_scores[3]\n",
    "                example_params['validation recall'] = model_scores[1]   \n",
    "                example_params['validation f1'] = model_scores[0]\n",
    "                example_params['validation accuracy'] = model_scores[2]\n",
    "                score_tracker.append(example_params)\n",
    "        best_params=sorted(score_tracker, key=lambda x: x['validation accuracy'], reverse=True)[0]            \n",
    "        clf_tuned = DecisionTreeClassifier(criterion=best_params.get(\"criterion\"), \n",
    "                                           max_depth=best_params.get(\"max_depth\"), random_state=my_rand)\n",
    "        \n",
    "    elif clf.__class__.__name__ == 'RandomForestClassifier':  \n",
    "        params = {'n_estimators': [10, 100, 200],\n",
    "                  'max_depth': [4, 6, 12]}        \n",
    "        score_tracker = []\n",
    "        for n_estimators in params['n_estimators']:\n",
    "            for max_depth in params['max_depth']:\n",
    "                example_params = {'n_estimators': n_estimators,'max_depth': max_depth,'random_state': my_rand}    \n",
    "                model_scores = score_model(RandomForestClassifier, X_train, y_train, example_params, kf, my_rand, sampStrat, imbalance_desired)                  \n",
    "                example_params['validation precision'] = model_scores[3]\n",
    "                example_params['validation recall'] = model_scores[1]   \n",
    "                example_params['validation f1'] = model_scores[0]\n",
    "                example_params['validation accuracy'] = model_scores[2]\n",
    "                score_tracker.append(example_params)\n",
    "        best_params=sorted(score_tracker, key=lambda x: x['validation accuracy'], reverse=True)[0]            \n",
    "        clf_tuned = RandomForestClassifier(n_estimators=best_params.get(\"n_estimators\"), \n",
    "                                           max_depth=best_params.get(\"max_depth\"), random_state=my_rand)\n",
    "\n",
    "    \n",
    "    elif clf.__class__.__name__ == 'SVC':        \n",
    "        params = {'kernel': ['linear','rbf'], # C is the penalty of misclassification,larger C = a smaller margin \n",
    "                  'C': [0.001, 0.01]} #(kernel=\"poly\",degree=6,coef0=5,gamma=0.1)'kernel':('linear', 'rbf')'rbf'\n",
    "        score_tracker = []\n",
    "        for kernel in params['kernel']:\n",
    "            for C in params['C']:\n",
    "                example_params = {'kernel': kernel, 'C': C,'random_state': my_rand}    \n",
    "                model_scores = score_model(SVC, X_train, y_train, example_params, kf, my_rand,sampStrat, imbalance_desired)                  \n",
    "                example_params['validation precision'] = model_scores[3]\n",
    "                example_params['validation recall'] = model_scores[1]   \n",
    "                example_params['validation f1'] = model_scores[0]\n",
    "                example_params['validation accuracy'] = model_scores[2]\n",
    "                score_tracker.append(example_params)\n",
    "        best_params=sorted(score_tracker, key=lambda x: x['validation accuracy'], reverse=True)[0]            \n",
    "        clf_tuned = SVC(C=best_params.get(\"C\"), kernel=best_params.get(\"kernel\"),\n",
    "                                           random_state=my_rand)\n",
    "        \n",
    "    elif clf.__class__.__name__ == 'XGBClassifier':\n",
    "        params = {'n_estimators': [10, 75, 200],\n",
    "                  'max_depth': [4, 10, 100]} #(learning_rate=0.001, verbosity = 0)\n",
    "\n",
    "    else:        \n",
    "        return (None, None)  \n",
    "    \n",
    "    send_params={'hyper_param_tuning': None}\n",
    "    send_params['hyper_param_tuning']={k: best_params[k] for k in best_params.keys() - {'validation precision',\n",
    "                                                                                    'validation recall',\n",
    "                                                                                    'validation f1',\n",
    "                                                                                    'validation accuracy'}}\n",
    "    send_params['validation precision']=best_params['validation precision']   \n",
    "    send_params['validation recall']=best_params['validation recall'] \n",
    "    send_params['validation f1']=best_params['validation f1'] \n",
    "    send_params['validation accuracy']=best_params['validation accuracy'] \n",
    "    return (clf_tuned, send_params)"
   ]
  },
  {
   "cell_type": "markdown",
   "id": "cc262cda",
   "metadata": {},
   "source": [
    "### the get data test the classifiers based on the optimized model, the training sample is upsampled by the desired imbalance using the umpamloing techniques SMOTE NC , random upsampling, random upsampling and random downsampling, and then the optimized model is fit to with it. Then the test data is used to get the test scores (test data is not upsampled)"
   ]
  },
  {
   "cell_type": "code",
   "execution_count": 19,
   "id": "92e9e9cb",
   "metadata": {},
   "outputs": [],
   "source": [
    "def get_data(clf, X_train, y_train, X_test, y_test, kf, imbalance, imbalance_desired, sampStrat, my_rand):\n",
    "    \"\"\"\n",
    "    Calls the get_opt_hyperparam function to get optimized hyperparameters, validation scores, \n",
    "    and tuned model.\n",
    "    Then trains the tuned model using the upsampled training data\n",
    "    (upsample the train data to the desired imbalance value).\n",
    "    Then performs test on the trained model.\n",
    "    Returns the best hyper parameter combinations, validation scores, train upsampling amount (imbalance))\n",
    "    , and test scores.\n",
    "    \"\"\"\n",
    "        \n",
    "    if sampStrat=='SMOTENC':\n",
    "        _, N1, N2, N3 =get_imbalance_desired_n(y_train, imbalance_desired)\n",
    "        sampling_strategy = {1: N1, 2: N2, 3: N3}\n",
    "        # get optimized model and validation stats\n",
    "        clf_tuned, params = get_opt_hyperparam(clf, X_train, y_train, kf, my_rand, sampStrat, imbalance_desired)\n",
    "        X_train_upsample, y_train_upsample = SMOTENC(sampling_strategy =sampling_strategy, categorical_features=[20],\n",
    "                                                     random_state=my_rand).fit_resample(X_train, y_train)\n",
    "        # fit optimized model with no upsampled train data\n",
    "        clf_tuned.fit(X_train_upsample, y_train_upsample)\n",
    "        # test model with test data\n",
    "        y_pred = clf_tuned.predict(X_test)\n",
    "        # store all parametes and scores\n",
    "        params['test precision']=precision_score(y_test, y_pred,average=None)[2]\n",
    "        params['test recall']=recall_score(y_test, y_pred,average=None)[2]\n",
    "        params['test f1']=f1_score(y_test, y_pred, average=None)[2]\n",
    "        params['test accuracy']=accuracy_score(y_test, y_pred)\n",
    "        params['sampling'] = sampStrat\n",
    "        params['sampling_strategy'] = [{1: N1, 2: N2, 3: N3}]\n",
    "        params['test imbalance'] = imbalance_desired\n",
    "        params['model name'] = clf_tuned.__class__.__name__\n",
    "        params['y_pred']=y_pred\n",
    "\n",
    "    if sampStrat=='rus-ros':\n",
    "        _, N1, N2, N3 =get_imbalance_desired_n(y_train, imbalance_desired)\n",
    "\n",
    "        sampling_strategy1 = {1: N1, 2: N2, 3: N3}\n",
    "        sampling_strategy2 = {1: N2, 2: N2, 3: N3}\n",
    "        # get optimized model and validation stats\n",
    "        clf_tuned, params = get_opt_hyperparam(clf, X_train, y_train, kf, my_rand, sampStrat, imbalance_desired) \n",
    "        X_train_upsample, y_train_upsample = RandomOverSampler(sampling_strategy =sampling_strategy1, \n",
    "                                                               random_state=my_rand).fit_resample(X_train, y_train)\n",
    "        X_train_downsample, y_train_downsample = RandomUnderSampler(sampling_strategy =sampling_strategy2, \n",
    "                                                                random_state=my_rand,\n",
    "                                                                replacement=False).fit_resample(X_train_upsample, y_train_upsample)\n",
    "        clf_tuned.fit(X_train_downsample, y_train_downsample)\n",
    "        # test model with test data\n",
    "        y_pred = clf_tuned.predict(X_test)\n",
    "        # store all parametes and scores\n",
    "        params['test precision']=precision_score(y_test, y_pred,average=None)[2]\n",
    "        params['test recall']=recall_score(y_test, y_pred,average=None)[2]\n",
    "        params['test f1']=f1_score(y_test, y_pred, average=None)[2]\n",
    "        params['test accuracy']=accuracy_score(y_test, y_pred)\n",
    "        params['sampling'] = sampStrat\n",
    "        params['sampling_strategy'] = [{1: N3, 2: N2, 3: N3}]\n",
    "        new_imb, _, _, _ = get_imbalance_desired_n(y_train_downsample, imbalance_desired)\n",
    "        params['test imbalance'] = new_imb\n",
    "        params['model name'] = clf_tuned.__class__.__name__\n",
    "        params['y_pred']=y_pred\n",
    "        \n",
    "    if sampStrat=='ros':\n",
    "        _, N1, N2, N3 =get_imbalance_desired_n(y_train, imbalance_desired)\n",
    "        sampling_strategy = {1: N1, 2: N2, 3: N3}\n",
    "        # get optimized model and validation stats\n",
    "        clf_tuned, params = get_opt_hyperparam(clf, X_train, y_train, kf, my_rand, sampStrat, imbalance_desired)   \n",
    "        X_train_upsample, y_train_upsample = RandomOverSampler(sampling_strategy =sampling_strategy, random_state=my_rand).fit_resample(X_train, y_train)\n",
    "        clf_tuned.fit(X_train_upsample, y_train_upsample)\n",
    "        # test model with test data\n",
    "        y_pred = clf_tuned.predict(X_test)\n",
    "        # store all parametes and scores\n",
    "        params['test precision']=precision_score(y_test, y_pred,average=None)[2]\n",
    "        params['test recall']=recall_score(y_test, y_pred,average=None)[2]\n",
    "        params['test f1']=f1_score(y_test, y_pred, average=None)[2]\n",
    "        params['test accuracy']=accuracy_score(y_test, y_pred) \n",
    "        params['sampling'] = sampStrat\n",
    "        params['sampling_strategy'] = [{1: N1, 2: N2, 3: N3}]\n",
    "        params['test imbalance'] = imbalance_desired\n",
    "        params['model name'] = clf_tuned.__class__.__name__\n",
    "        params['y_pred']=y_pred\n",
    "        \n",
    "    return(params)"
   ]
  },
  {
   "cell_type": "markdown",
   "id": "d01fc733",
   "metadata": {},
   "source": [
    "### main function instanciates all the classifiers, creates all the desired imbalance to be used, and declares all the sampling strategies that would be used, then calls the get data function to perform the validation train and test, stores the data as the loops of classifiers, imbalance desired and sampler tech progresses"
   ]
  },
  {
   "cell_type": "code",
   "execution_count": 22,
   "id": "2a448820",
   "metadata": {},
   "outputs": [],
   "source": [
    "def main_func (kf, my_rand, n_stat, X_train, y_train, X_test, y_test):\n",
    "    \"\"\"\n",
    "    takes folds for cv, train and test data, random number, and normalization state.\n",
    "    creates all classifiers to be evaluated, and all imbalances to be tested, and names all upsampling\n",
    "    strategies then calls the get_data function to do cross validation and testing.\n",
    "\n",
    "    before calling get_data function it also does an initial non hyperparameter tuned fit \n",
    "    with no upsampled train data and does an initial test fit.\n",
    "    \"\"\"\n",
    "\n",
    "    datStore = []\n",
    "    imbalance, _ , _ ,_ = get_imbalance_desired_n(y_train, 0)\n",
    "    #desired data imbalance\n",
    "    imbalance_desired = np.arange(imbalance, 0.00, -0.20)#[0.89, 0.69, 0.49, 0.29, 0.09]\n",
    "\n",
    "    #-----------------------------------------------------------------------------------\n",
    "\n",
    "    dc_clf = tree.DecisionTreeClassifier()\n",
    "    rnd_clf=RandomForestClassifier()\n",
    "    svm_clf=SVC()#kernel=\"poly\",degree=6,coef0=5,gamma=0.1\n",
    "    #xgb_clf=XGBClassifier(learning_rate=0.001, verbosity = 0)\n",
    "\n",
    "    for clf in (dc_clf, rnd_clf, svm_clf):#, rnd_clf, svm_clf, xgb_clf):\n",
    "   \n",
    "        start = time.time()\n",
    "        clf.fit(X_train, y_train)\n",
    "        y_train_pred = clf. predict(X_train) \n",
    "        # test model with test data\n",
    "        y_pred = clf.predict(X_test)\n",
    "\n",
    "\n",
    "        # store all parametes and scores\n",
    "        params={'hyper_param_tuning': 'none'}\n",
    "        params['validation precision']= precision_score(y_train, y_train_pred,average=None)[2]\n",
    "        params['validation recall']= recall_score(y_train, y_train_pred,average=None)[2]\n",
    "        params['validation f1']= f1_score(y_train, y_train_pred, average=None)[2]\n",
    "        params['validation accuracy']= accuracy_score(y_train, y_train_pred)\n",
    "        params['test precision']= precision_score(y_test, y_pred,average=None)[2]\n",
    "        params['test recall']= recall_score(y_test, y_pred,average=None)[2]\n",
    "        params['test f1']= f1_score(y_test, y_pred, average=None)[2]\n",
    "        params['test accuracy'] = accuracy_score(y_test, y_pred)  \n",
    "        params['sampling'] = 'none'\n",
    "        params['sampling_strategy'] = [{1: len(y_train.index[y_train.eq(1)]), \n",
    "                                        2: len(y_train.index[y_train.eq(2)]), \n",
    "                                        3: len(y_train.index[y_train.eq(3)])}]\n",
    "        params['test imbalance'] = imbalance\n",
    "        params['model name'] = clf.__class__.__name__\n",
    "        params['y_pred']=y_pred\n",
    "        params['normalization']=n_stat\n",
    "        end = time.time()\n",
    "        params['time']=end-start\n",
    "        datStore.append(params)   \n",
    "\n",
    "        for des_imb in range (0,len(imbalance_desired),1):\n",
    "            for sampStrat in ('SMOTENC','ros','rus-ros'):\n",
    "\n",
    "                start = time.time()\n",
    "                #print(\"Start hello\")\n",
    "                output = get_data(clf, X_train, y_train, X_test, y_test, kf, \n",
    "                                  imbalance, imbalance_desired[des_imb], sampStrat, my_rand) \n",
    "\n",
    "                end = time.time()\n",
    "                output['normalization']=n_stat\n",
    "                output['time']=end-start\n",
    "                datStore.append(output)\n",
    "    \n",
    "    return(datStore)"
   ]
  },
  {
   "cell_type": "markdown",
   "id": "fbf42f1f",
   "metadata": {},
   "source": [
    "### This segment createds cross validation folds (which is propagated throughout the code to keep same data test train split so the re is no leakage between training and testing) based on a random number assigned\n",
    "### this random number is propagated through out the codes to keep all sampling models as consistent between loops as possible\n",
    "### Also tests the not normalised data and the min max normalised data\n",
    "### stores all validationa and test scores for all variations"
   ]
  },
  {
   "cell_type": "code",
   "execution_count": 23,
   "id": "2656efee",
   "metadata": {},
   "outputs": [],
   "source": [
    "#-----------------------------------------------------------------------------------\n",
    "my_rand = 42\n",
    "# creating same folds everytime, 10 x fold\n",
    "kf = StratifiedKFold(n_splits=10, random_state=None, shuffle=False)\n",
    "\n",
    "n_stat='no_norm'\n",
    "label_col = mydata_no_norm['NSP'] \n",
    "data_col = mydata_no_norm.iloc[:, 0:22] \n",
    "X_train,X_test,y_train,y_test=train_test_split(data_col,label_col,test_size=0.3 ,\n",
    "                                               random_state=my_rand, stratify=label_col)\n",
    "datStore1 = main_func(kf,  my_rand, n_stat, X_train, y_train, X_test, y_test)\n",
    "\n",
    "n_stat='norm'\n",
    "label_col = mydata_norm['NSP'] \n",
    "data_col = mydata_norm.iloc[:, 0:22] \n",
    "X_train,X_test,y_train,y_test=train_test_split(data_col,label_col,test_size=0.3 ,\n",
    "                                               random_state=my_rand, stratify=label_col) \n",
    "datStore2 = main_func(kf, my_rand, n_stat, X_train, y_train, X_test, y_test)\n",
    "\n",
    "datStore_final=datStore1\n",
    "datStore_final.extend(datStore2)\n",
    "#-----------------------------------------------------------------------------------"
   ]
  },
  {
   "cell_type": "markdown",
   "id": "02d5ca66",
   "metadata": {},
   "source": [
    "### saving all data into a dataframe"
   ]
  },
  {
   "cell_type": "code",
   "execution_count": 128,
   "id": "07a959c3",
   "metadata": {
    "scrolled": false
   },
   "outputs": [],
   "source": [
    "new=[]\n",
    "for i in range (0,len(datStore_final),1):\n",
    "    new.append(datStore_final[i])\n",
    "    "
   ]
  },
  {
   "cell_type": "code",
   "execution_count": 129,
   "id": "16b690b1",
   "metadata": {},
   "outputs": [],
   "source": [
    "newdf=pd.DataFrame(new)"
   ]
  },
  {
   "cell_type": "code",
   "execution_count": 130,
   "id": "9e80875b",
   "metadata": {},
   "outputs": [
    {
     "data": {
      "text/plain": [
       "96"
      ]
     },
     "execution_count": 130,
     "metadata": {},
     "output_type": "execute_result"
    }
   ],
   "source": [
    "len(newdf.index) # (2 norm * 3 class * 3 sampling * 5 imbalance) + (3 class no tune no sample * 2 norm )"
   ]
  },
  {
   "cell_type": "markdown",
   "id": "0b83f087",
   "metadata": {},
   "source": [
    "### saving the dataframe to visualize in R"
   ]
  },
  {
   "cell_type": "code",
   "execution_count": 131,
   "id": "5071c42c",
   "metadata": {},
   "outputs": [],
   "source": [
    "newdf.to_csv('all_3_model_results.csv',index=False) # writing csv to export back to R"
   ]
  },
  {
   "cell_type": "markdown",
   "id": "e8486da8",
   "metadata": {},
   "source": [
    "### Investigating the test accuracies and other parameters"
   ]
  },
  {
   "cell_type": "code",
   "execution_count": 127,
   "id": "2125689f",
   "metadata": {
    "scrolled": true
   },
   "outputs": [
    {
     "data": {
      "text/html": [
       "<div>\n",
       "<style scoped>\n",
       "    .dataframe tbody tr th:only-of-type {\n",
       "        vertical-align: middle;\n",
       "    }\n",
       "\n",
       "    .dataframe tbody tr th {\n",
       "        vertical-align: top;\n",
       "    }\n",
       "\n",
       "    .dataframe thead th {\n",
       "        text-align: right;\n",
       "    }\n",
       "</style>\n",
       "<table border=\"1\" class=\"dataframe\">\n",
       "  <thead>\n",
       "    <tr style=\"text-align: right;\">\n",
       "      <th></th>\n",
       "      <th>hyper_param_tuning</th>\n",
       "      <th>validation precision</th>\n",
       "      <th>validation recall</th>\n",
       "      <th>validation f1</th>\n",
       "      <th>validation accuracy</th>\n",
       "      <th>test precision</th>\n",
       "      <th>test recall</th>\n",
       "      <th>test f1</th>\n",
       "      <th>test accuracy</th>\n",
       "      <th>sampling</th>\n",
       "      <th>sampling_strategy</th>\n",
       "      <th>test imbalance</th>\n",
       "      <th>model name</th>\n",
       "      <th>y_pred</th>\n",
       "      <th>normalization</th>\n",
       "      <th>time</th>\n",
       "    </tr>\n",
       "  </thead>\n",
       "  <tbody>\n",
       "    <tr>\n",
       "      <th>0</th>\n",
       "      <td>none</td>\n",
       "      <td>1.000000</td>\n",
       "      <td>1.000000</td>\n",
       "      <td>1.000000</td>\n",
       "      <td>0.999328</td>\n",
       "      <td>0.843137</td>\n",
       "      <td>0.811321</td>\n",
       "      <td>0.826923</td>\n",
       "      <td>0.894984</td>\n",
       "      <td>none</td>\n",
       "      <td>[{1: 1158, 2: 207, 3: 123}]</td>\n",
       "      <td>0.889785</td>\n",
       "      <td>DecisionTreeClassifier</td>\n",
       "      <td>[3, 1, 1, 1, 2, 1, 1, 2, 1, 2, 3, 1, 2, 1, 1, ...</td>\n",
       "      <td>no_norm</td>\n",
       "      <td>0.034532</td>\n",
       "    </tr>\n",
       "    <tr>\n",
       "      <th>1</th>\n",
       "      <td>{'random_state': 42, 'max_depth': 12, 'criteri...</td>\n",
       "      <td>0.887981</td>\n",
       "      <td>0.885897</td>\n",
       "      <td>0.880510</td>\n",
       "      <td>0.933466</td>\n",
       "      <td>0.890909</td>\n",
       "      <td>0.924528</td>\n",
       "      <td>0.907407</td>\n",
       "      <td>0.934169</td>\n",
       "      <td>SMOTENC</td>\n",
       "      <td>[{1: 1158, 2: 207, 3: 165}]</td>\n",
       "      <td>0.889785</td>\n",
       "      <td>DecisionTreeClassifier</td>\n",
       "      <td>[3, 1, 1, 1, 1, 1, 1, 1, 2, 1, 3, 2, 1, 1, 1, ...</td>\n",
       "      <td>no_norm</td>\n",
       "      <td>2.126208</td>\n",
       "    </tr>\n",
       "    <tr>\n",
       "      <th>2</th>\n",
       "      <td>{'random_state': 42, 'max_depth': 6, 'criterio...</td>\n",
       "      <td>0.921777</td>\n",
       "      <td>0.877564</td>\n",
       "      <td>0.895760</td>\n",
       "      <td>0.934813</td>\n",
       "      <td>0.872340</td>\n",
       "      <td>0.773585</td>\n",
       "      <td>0.820000</td>\n",
       "      <td>0.913793</td>\n",
       "      <td>ros</td>\n",
       "      <td>[{1: 1158, 2: 207, 3: 165}]</td>\n",
       "      <td>0.889785</td>\n",
       "      <td>DecisionTreeClassifier</td>\n",
       "      <td>[1, 1, 1, 1, 1, 1, 1, 1, 1, 1, 3, 1, 1, 1, 1, ...</td>\n",
       "      <td>no_norm</td>\n",
       "      <td>0.515158</td>\n",
       "    </tr>\n",
       "    <tr>\n",
       "      <th>3</th>\n",
       "      <td>{'random_state': 42, 'max_depth': 12, 'criteri...</td>\n",
       "      <td>0.697231</td>\n",
       "      <td>0.928205</td>\n",
       "      <td>0.792601</td>\n",
       "      <td>0.856879</td>\n",
       "      <td>0.877193</td>\n",
       "      <td>0.943396</td>\n",
       "      <td>0.909091</td>\n",
       "      <td>0.849530</td>\n",
       "      <td>rus-ros</td>\n",
       "      <td>[{1: 165, 2: 207, 3: 165}]</td>\n",
       "      <td>0.096718</td>\n",
       "      <td>DecisionTreeClassifier</td>\n",
       "      <td>[3, 1, 1, 1, 2, 1, 1, 2, 3, 2, 3, 2, 2, 1, 1, ...</td>\n",
       "      <td>no_norm</td>\n",
       "      <td>0.459750</td>\n",
       "    </tr>\n",
       "    <tr>\n",
       "      <th>4</th>\n",
       "      <td>{'random_state': 42, 'max_depth': 12, 'criteri...</td>\n",
       "      <td>0.872509</td>\n",
       "      <td>0.885897</td>\n",
       "      <td>0.876008</td>\n",
       "      <td>0.931462</td>\n",
       "      <td>0.869565</td>\n",
       "      <td>0.754717</td>\n",
       "      <td>0.808081</td>\n",
       "      <td>0.898119</td>\n",
       "      <td>SMOTENC</td>\n",
       "      <td>[{1: 1158, 2: 314, 3: 314}]</td>\n",
       "      <td>0.689785</td>\n",
       "      <td>DecisionTreeClassifier</td>\n",
       "      <td>[1, 1, 1, 1, 1, 1, 1, 1, 1, 2, 3, 1, 2, 1, 1, ...</td>\n",
       "      <td>no_norm</td>\n",
       "      <td>2.776443</td>\n",
       "    </tr>\n",
       "  </tbody>\n",
       "</table>\n",
       "</div>"
      ],
      "text/plain": [
       "                                  hyper_param_tuning  validation precision  \\\n",
       "0                                               none              1.000000   \n",
       "1  {'random_state': 42, 'max_depth': 12, 'criteri...              0.887981   \n",
       "2  {'random_state': 42, 'max_depth': 6, 'criterio...              0.921777   \n",
       "3  {'random_state': 42, 'max_depth': 12, 'criteri...              0.697231   \n",
       "4  {'random_state': 42, 'max_depth': 12, 'criteri...              0.872509   \n",
       "\n",
       "   validation recall  validation f1  validation accuracy  test precision  \\\n",
       "0           1.000000       1.000000             0.999328        0.843137   \n",
       "1           0.885897       0.880510             0.933466        0.890909   \n",
       "2           0.877564       0.895760             0.934813        0.872340   \n",
       "3           0.928205       0.792601             0.856879        0.877193   \n",
       "4           0.885897       0.876008             0.931462        0.869565   \n",
       "\n",
       "   test recall   test f1  test accuracy sampling            sampling_strategy  \\\n",
       "0     0.811321  0.826923       0.894984     none  [{1: 1158, 2: 207, 3: 123}]   \n",
       "1     0.924528  0.907407       0.934169  SMOTENC  [{1: 1158, 2: 207, 3: 165}]   \n",
       "2     0.773585  0.820000       0.913793      ros  [{1: 1158, 2: 207, 3: 165}]   \n",
       "3     0.943396  0.909091       0.849530  rus-ros   [{1: 165, 2: 207, 3: 165}]   \n",
       "4     0.754717  0.808081       0.898119  SMOTENC  [{1: 1158, 2: 314, 3: 314}]   \n",
       "\n",
       "   test imbalance              model name  \\\n",
       "0        0.889785  DecisionTreeClassifier   \n",
       "1        0.889785  DecisionTreeClassifier   \n",
       "2        0.889785  DecisionTreeClassifier   \n",
       "3        0.096718  DecisionTreeClassifier   \n",
       "4        0.689785  DecisionTreeClassifier   \n",
       "\n",
       "                                              y_pred normalization      time  \n",
       "0  [3, 1, 1, 1, 2, 1, 1, 2, 1, 2, 3, 1, 2, 1, 1, ...       no_norm  0.034532  \n",
       "1  [3, 1, 1, 1, 1, 1, 1, 1, 2, 1, 3, 2, 1, 1, 1, ...       no_norm  2.126208  \n",
       "2  [1, 1, 1, 1, 1, 1, 1, 1, 1, 1, 3, 1, 1, 1, 1, ...       no_norm  0.515158  \n",
       "3  [3, 1, 1, 1, 2, 1, 1, 2, 3, 2, 3, 2, 2, 1, 1, ...       no_norm  0.459750  \n",
       "4  [1, 1, 1, 1, 1, 1, 1, 1, 1, 2, 3, 1, 2, 1, 1, ...       no_norm  2.776443  "
      ]
     },
     "execution_count": 127,
     "metadata": {},
     "output_type": "execute_result"
    }
   ],
   "source": [
    "newdf.head()"
   ]
  },
  {
   "cell_type": "markdown",
   "id": "c6425abf",
   "metadata": {},
   "source": [
    "### looking at the models where the train accuracy is higher than test accuracy, these are models that are not overfit"
   ]
  },
  {
   "cell_type": "code",
   "execution_count": 126,
   "id": "df0cfc5c",
   "metadata": {},
   "outputs": [
    {
     "data": {
      "text/html": [
       "<div>\n",
       "<style scoped>\n",
       "    .dataframe tbody tr th:only-of-type {\n",
       "        vertical-align: middle;\n",
       "    }\n",
       "\n",
       "    .dataframe tbody tr th {\n",
       "        vertical-align: top;\n",
       "    }\n",
       "\n",
       "    .dataframe thead th {\n",
       "        text-align: right;\n",
       "    }\n",
       "</style>\n",
       "<table border=\"1\" class=\"dataframe\">\n",
       "  <thead>\n",
       "    <tr style=\"text-align: right;\">\n",
       "      <th></th>\n",
       "      <th>hyper_param_tuning</th>\n",
       "      <th>validation precision</th>\n",
       "      <th>validation recall</th>\n",
       "      <th>validation f1</th>\n",
       "      <th>validation accuracy</th>\n",
       "      <th>test precision</th>\n",
       "      <th>test recall</th>\n",
       "      <th>test f1</th>\n",
       "      <th>test accuracy</th>\n",
       "      <th>sampling</th>\n",
       "      <th>sampling_strategy</th>\n",
       "      <th>test imbalance</th>\n",
       "      <th>model name</th>\n",
       "      <th>y_pred</th>\n",
       "      <th>normalization</th>\n",
       "      <th>time</th>\n",
       "    </tr>\n",
       "  </thead>\n",
       "  <tbody>\n",
       "    <tr>\n",
       "      <th>1</th>\n",
       "      <td>{'random_state': 42, 'max_depth': 12, 'criteri...</td>\n",
       "      <td>0.887981</td>\n",
       "      <td>0.885897</td>\n",
       "      <td>0.880510</td>\n",
       "      <td>0.933466</td>\n",
       "      <td>0.890909</td>\n",
       "      <td>0.924528</td>\n",
       "      <td>0.907407</td>\n",
       "      <td>0.934169</td>\n",
       "      <td>SMOTENC</td>\n",
       "      <td>[{1: 1158, 2: 207, 3: 165}]</td>\n",
       "      <td>0.889785</td>\n",
       "      <td>DecisionTreeClassifier</td>\n",
       "      <td>[3, 1, 1, 1, 1, 1, 1, 1, 2, 1, 3, 2, 1, 1, 1, ...</td>\n",
       "      <td>no_norm</td>\n",
       "      <td>2.126208</td>\n",
       "    </tr>\n",
       "    <tr>\n",
       "      <th>7</th>\n",
       "      <td>{'random_state': 42, 'max_depth': 12, 'criteri...</td>\n",
       "      <td>0.812601</td>\n",
       "      <td>0.926923</td>\n",
       "      <td>0.862843</td>\n",
       "      <td>0.912666</td>\n",
       "      <td>0.816327</td>\n",
       "      <td>0.754717</td>\n",
       "      <td>0.784314</td>\n",
       "      <td>0.920063</td>\n",
       "      <td>SMOTENC</td>\n",
       "      <td>[{1: 1158, 2: 463, 3: 463}]</td>\n",
       "      <td>0.489785</td>\n",
       "      <td>DecisionTreeClassifier</td>\n",
       "      <td>[3, 1, 1, 1, 1, 1, 1, 1, 1, 1, 3, 1, 1, 1, 1, ...</td>\n",
       "      <td>no_norm</td>\n",
       "      <td>3.419654</td>\n",
       "    </tr>\n",
       "    <tr>\n",
       "      <th>11</th>\n",
       "      <td>{'random_state': 42, 'max_depth': 12, 'criteri...</td>\n",
       "      <td>0.887161</td>\n",
       "      <td>0.886538</td>\n",
       "      <td>0.884934</td>\n",
       "      <td>0.922724</td>\n",
       "      <td>0.840000</td>\n",
       "      <td>0.792453</td>\n",
       "      <td>0.815534</td>\n",
       "      <td>0.926332</td>\n",
       "      <td>ros</td>\n",
       "      <td>[{1: 1158, 2: 611, 3: 611}]</td>\n",
       "      <td>0.289785</td>\n",
       "      <td>DecisionTreeClassifier</td>\n",
       "      <td>[3, 1, 1, 1, 1, 1, 1, 1, 1, 2, 3, 1, 1, 1, 1, ...</td>\n",
       "      <td>no_norm</td>\n",
       "      <td>0.505185</td>\n",
       "    </tr>\n",
       "    <tr>\n",
       "      <th>12</th>\n",
       "      <td>{'random_state': 42, 'max_depth': 12, 'criteri...</td>\n",
       "      <td>0.852063</td>\n",
       "      <td>0.901282</td>\n",
       "      <td>0.873861</td>\n",
       "      <td>0.904571</td>\n",
       "      <td>0.865385</td>\n",
       "      <td>0.849057</td>\n",
       "      <td>0.857143</td>\n",
       "      <td>0.918495</td>\n",
       "      <td>rus-ros</td>\n",
       "      <td>[{1: 611, 2: 611, 3: 611}]</td>\n",
       "      <td>0.000000</td>\n",
       "      <td>DecisionTreeClassifier</td>\n",
       "      <td>[3, 1, 1, 1, 2, 1, 1, 1, 1, 1, 3, 1, 1, 1, 1, ...</td>\n",
       "      <td>no_norm</td>\n",
       "      <td>0.599396</td>\n",
       "    </tr>\n",
       "    <tr>\n",
       "      <th>15</th>\n",
       "      <td>{'random_state': 42, 'max_depth': 12, 'criteri...</td>\n",
       "      <td>0.844378</td>\n",
       "      <td>0.886538</td>\n",
       "      <td>0.860649</td>\n",
       "      <td>0.906566</td>\n",
       "      <td>0.762712</td>\n",
       "      <td>0.849057</td>\n",
       "      <td>0.803571</td>\n",
       "      <td>0.927900</td>\n",
       "      <td>rus-ros</td>\n",
       "      <td>[{1: 760, 2: 760, 3: 760}]</td>\n",
       "      <td>0.000000</td>\n",
       "      <td>DecisionTreeClassifier</td>\n",
       "      <td>[2, 1, 1, 1, 1, 1, 1, 1, 1, 2, 3, 1, 1, 1, 1, ...</td>\n",
       "      <td>no_norm</td>\n",
       "      <td>0.634833</td>\n",
       "    </tr>\n",
       "  </tbody>\n",
       "</table>\n",
       "</div>"
      ],
      "text/plain": [
       "                                   hyper_param_tuning  validation precision  \\\n",
       "1   {'random_state': 42, 'max_depth': 12, 'criteri...              0.887981   \n",
       "7   {'random_state': 42, 'max_depth': 12, 'criteri...              0.812601   \n",
       "11  {'random_state': 42, 'max_depth': 12, 'criteri...              0.887161   \n",
       "12  {'random_state': 42, 'max_depth': 12, 'criteri...              0.852063   \n",
       "15  {'random_state': 42, 'max_depth': 12, 'criteri...              0.844378   \n",
       "\n",
       "    validation recall  validation f1  validation accuracy  test precision  \\\n",
       "1            0.885897       0.880510             0.933466        0.890909   \n",
       "7            0.926923       0.862843             0.912666        0.816327   \n",
       "11           0.886538       0.884934             0.922724        0.840000   \n",
       "12           0.901282       0.873861             0.904571        0.865385   \n",
       "15           0.886538       0.860649             0.906566        0.762712   \n",
       "\n",
       "    test recall   test f1  test accuracy sampling  \\\n",
       "1      0.924528  0.907407       0.934169  SMOTENC   \n",
       "7      0.754717  0.784314       0.920063  SMOTENC   \n",
       "11     0.792453  0.815534       0.926332      ros   \n",
       "12     0.849057  0.857143       0.918495  rus-ros   \n",
       "15     0.849057  0.803571       0.927900  rus-ros   \n",
       "\n",
       "              sampling_strategy  test imbalance              model name  \\\n",
       "1   [{1: 1158, 2: 207, 3: 165}]        0.889785  DecisionTreeClassifier   \n",
       "7   [{1: 1158, 2: 463, 3: 463}]        0.489785  DecisionTreeClassifier   \n",
       "11  [{1: 1158, 2: 611, 3: 611}]        0.289785  DecisionTreeClassifier   \n",
       "12   [{1: 611, 2: 611, 3: 611}]        0.000000  DecisionTreeClassifier   \n",
       "15   [{1: 760, 2: 760, 3: 760}]        0.000000  DecisionTreeClassifier   \n",
       "\n",
       "                                               y_pred normalization      time  \n",
       "1   [3, 1, 1, 1, 1, 1, 1, 1, 2, 1, 3, 2, 1, 1, 1, ...       no_norm  2.126208  \n",
       "7   [3, 1, 1, 1, 1, 1, 1, 1, 1, 1, 3, 1, 1, 1, 1, ...       no_norm  3.419654  \n",
       "11  [3, 1, 1, 1, 1, 1, 1, 1, 1, 2, 3, 1, 1, 1, 1, ...       no_norm  0.505185  \n",
       "12  [3, 1, 1, 1, 2, 1, 1, 1, 1, 1, 3, 1, 1, 1, 1, ...       no_norm  0.599396  \n",
       "15  [2, 1, 1, 1, 1, 1, 1, 1, 1, 2, 3, 1, 1, 1, 1, ...       no_norm  0.634833  "
      ]
     },
     "execution_count": 126,
     "metadata": {},
     "output_type": "execute_result"
    }
   ],
   "source": [
    "overFilt_df = newdf.loc[(newdf['test accuracy'] >= newdf['validation accuracy'])]\n",
    "overFilt_df.head()"
   ]
  },
  {
   "cell_type": "code",
   "execution_count": 91,
   "id": "17c8beac",
   "metadata": {},
   "outputs": [
    {
     "data": {
      "text/plain": [
       "hyper_param_tuning      {'random_state': 42, 'max_depth': 12, 'criteri...\n",
       "validation precision                                             0.887981\n",
       "validation recall                                                0.885897\n",
       "validation f1                                                     0.88051\n",
       "validation accuracy                                              0.933466\n",
       "test precision                                                   0.890909\n",
       "test recall                                                      0.924528\n",
       "test f1                                                          0.907407\n",
       "test accuracy                                                    0.934169\n",
       "sampling                                                          SMOTENC\n",
       "sampling_strategy                             [{1: 1158, 2: 207, 3: 165}]\n",
       "test imbalance                                                   0.889785\n",
       "model name                                         DecisionTreeClassifier\n",
       "y_pred                  [3, 1, 1, 1, 1, 1, 1, 1, 2, 1, 3, 2, 1, 1, 1, ...\n",
       "normalization                                                     no_norm\n",
       "time                                                             2.126208\n",
       "Name: 1, dtype: object"
      ]
     },
     "execution_count": 91,
     "metadata": {},
     "output_type": "execute_result"
    }
   ],
   "source": [
    "max_index = overFilt_df['test accuracy'].idxmax()\n",
    "overFilt_df.loc[max_index].head(20)"
   ]
  },
  {
   "cell_type": "markdown",
   "id": "ed8209bb",
   "metadata": {},
   "source": [
    "### seeing overall what was the highest test accuracy in the data"
   ]
  },
  {
   "cell_type": "code",
   "execution_count": 92,
   "id": "0f92ab4a",
   "metadata": {},
   "outputs": [
    {
     "data": {
      "text/plain": [
       "hyper_param_tuning      {'random_state': 42, 'max_depth': 12, 'criteri...\n",
       "validation precision                                             0.887981\n",
       "validation recall                                                0.885897\n",
       "validation f1                                                     0.88051\n",
       "validation accuracy                                              0.933466\n",
       "test precision                                                   0.890909\n",
       "test recall                                                      0.924528\n",
       "test f1                                                          0.907407\n",
       "test accuracy                                                    0.934169\n",
       "sampling                                                          SMOTENC\n",
       "sampling_strategy                             [{1: 1158, 2: 207, 3: 165}]\n",
       "test imbalance                                                   0.889785\n",
       "model name                                         DecisionTreeClassifier\n",
       "y_pred                  [3, 1, 1, 1, 1, 1, 1, 1, 2, 1, 3, 2, 1, 1, 1, ...\n",
       "normalization                                                     no_norm\n",
       "time                                                             2.126208\n",
       "Name: 1, dtype: object"
      ]
     },
     "execution_count": 92,
     "metadata": {},
     "output_type": "execute_result"
    }
   ],
   "source": [
    "max_index = newdf['test accuracy'].idxmax()\n",
    "max_row = newdf.iloc[[max_index]]\n",
    "newdf.loc[max_index].head(20)"
   ]
  },
  {
   "cell_type": "markdown",
   "id": "ebc64cb0",
   "metadata": {},
   "source": [
    "### details of the hyperparamenters of highest accuracy"
   ]
  },
  {
   "cell_type": "code",
   "execution_count": 93,
   "id": "3ba279fb",
   "metadata": {},
   "outputs": [
    {
     "data": {
      "text/plain": [
       "0.8897849462365592"
      ]
     },
     "execution_count": 93,
     "metadata": {},
     "output_type": "execute_result"
    }
   ],
   "source": [
    "newdf.loc[max_index][11] # highest test acc"
   ]
  },
  {
   "cell_type": "code",
   "execution_count": 94,
   "id": "9ea342ab",
   "metadata": {},
   "outputs": [
    {
     "data": {
      "text/plain": [
       "{'random_state': 42, 'max_depth': 12, 'criterion': 'entropy'}"
      ]
     },
     "execution_count": 94,
     "metadata": {},
     "output_type": "execute_result"
    }
   ],
   "source": [
    "newdf.loc[max_index][0] # highest testacc paramenters"
   ]
  },
  {
   "cell_type": "markdown",
   "id": "0588d9ef",
   "metadata": {},
   "source": [
    "### comparing the highest test accuracy model with the other classifiers of same parameters (sampling and imbalance)"
   ]
  },
  {
   "cell_type": "code",
   "execution_count": 95,
   "id": "6732f349",
   "metadata": {},
   "outputs": [],
   "source": [
    "d = {'model name': ['DecisionTreeClassifier','RandomForestClassifier', 'SVC']}\n",
    "ndf = pd.DataFrame(d)\n",
    "\n",
    "# Get indexes where name column has the class max name\n",
    "indexNames = ndf[(ndf['model name'] == newdf.loc[max_index][12])].index \n",
    "\n",
    "# Delete row indexes from dataFrame\n",
    "ndf.drop(indexNames , inplace=True)\n",
    "ndf=ndf.reset_index(drop=True)\n"
   ]
  },
  {
   "cell_type": "code",
   "execution_count": 97,
   "id": "2a7ab6b9",
   "metadata": {},
   "outputs": [
    {
     "data": {
      "text/html": [
       "<div>\n",
       "<style scoped>\n",
       "    .dataframe tbody tr th:only-of-type {\n",
       "        vertical-align: middle;\n",
       "    }\n",
       "\n",
       "    .dataframe tbody tr th {\n",
       "        vertical-align: top;\n",
       "    }\n",
       "\n",
       "    .dataframe thead th {\n",
       "        text-align: right;\n",
       "    }\n",
       "</style>\n",
       "<table border=\"1\" class=\"dataframe\">\n",
       "  <thead>\n",
       "    <tr style=\"text-align: right;\">\n",
       "      <th></th>\n",
       "      <th>hyper_param_tuning</th>\n",
       "      <th>validation precision</th>\n",
       "      <th>validation recall</th>\n",
       "      <th>validation f1</th>\n",
       "      <th>validation accuracy</th>\n",
       "      <th>test precision</th>\n",
       "      <th>test recall</th>\n",
       "      <th>test f1</th>\n",
       "      <th>test accuracy</th>\n",
       "      <th>sampling</th>\n",
       "      <th>sampling_strategy</th>\n",
       "      <th>test imbalance</th>\n",
       "      <th>model name</th>\n",
       "      <th>y_pred</th>\n",
       "      <th>normalization</th>\n",
       "      <th>time</th>\n",
       "    </tr>\n",
       "  </thead>\n",
       "  <tbody>\n",
       "    <tr>\n",
       "      <th>0</th>\n",
       "      <td>none</td>\n",
       "      <td>1.000000</td>\n",
       "      <td>1.000000</td>\n",
       "      <td>1.000000</td>\n",
       "      <td>0.999328</td>\n",
       "      <td>0.843137</td>\n",
       "      <td>0.811321</td>\n",
       "      <td>0.826923</td>\n",
       "      <td>0.894984</td>\n",
       "      <td>none</td>\n",
       "      <td>[{1: 1158, 2: 207, 3: 123}]</td>\n",
       "      <td>0.889785</td>\n",
       "      <td>DecisionTreeClassifier</td>\n",
       "      <td>[3, 1, 1, 1, 2, 1, 1, 2, 1, 2, 3, 1, 2, 1, 1, ...</td>\n",
       "      <td>no_norm</td>\n",
       "      <td>0.034532</td>\n",
       "    </tr>\n",
       "    <tr>\n",
       "      <th>1</th>\n",
       "      <td>{'random_state': 42, 'max_depth': 12, 'criteri...</td>\n",
       "      <td>0.887981</td>\n",
       "      <td>0.885897</td>\n",
       "      <td>0.880510</td>\n",
       "      <td>0.933466</td>\n",
       "      <td>0.890909</td>\n",
       "      <td>0.924528</td>\n",
       "      <td>0.907407</td>\n",
       "      <td>0.934169</td>\n",
       "      <td>SMOTENC</td>\n",
       "      <td>[{1: 1158, 2: 207, 3: 165}]</td>\n",
       "      <td>0.889785</td>\n",
       "      <td>DecisionTreeClassifier</td>\n",
       "      <td>[3, 1, 1, 1, 1, 1, 1, 1, 2, 1, 3, 2, 1, 1, 1, ...</td>\n",
       "      <td>no_norm</td>\n",
       "      <td>2.126208</td>\n",
       "    </tr>\n",
       "    <tr>\n",
       "      <th>17</th>\n",
       "      <td>{'random_state': 42, 'max_depth': 12, 'n_estim...</td>\n",
       "      <td>0.943357</td>\n",
       "      <td>0.885897</td>\n",
       "      <td>0.910544</td>\n",
       "      <td>0.944209</td>\n",
       "      <td>0.869565</td>\n",
       "      <td>0.754717</td>\n",
       "      <td>0.808081</td>\n",
       "      <td>0.921630</td>\n",
       "      <td>SMOTENC</td>\n",
       "      <td>[{1: 1158, 2: 207, 3: 165}]</td>\n",
       "      <td>0.889785</td>\n",
       "      <td>RandomForestClassifier</td>\n",
       "      <td>[1, 1, 1, 1, 1, 1, 1, 1, 1, 1, 3, 1, 1, 1, 1, ...</td>\n",
       "      <td>no_norm</td>\n",
       "      <td>22.658856</td>\n",
       "    </tr>\n",
       "    <tr>\n",
       "      <th>33</th>\n",
       "      <td>{'random_state': 42, 'C': 0.01, 'kernel': 'lin...</td>\n",
       "      <td>0.779742</td>\n",
       "      <td>0.787821</td>\n",
       "      <td>0.780732</td>\n",
       "      <td>0.892459</td>\n",
       "      <td>0.826087</td>\n",
       "      <td>0.716981</td>\n",
       "      <td>0.767677</td>\n",
       "      <td>0.887147</td>\n",
       "      <td>SMOTENC</td>\n",
       "      <td>[{1: 1158, 2: 207, 3: 165}]</td>\n",
       "      <td>0.889785</td>\n",
       "      <td>SVC</td>\n",
       "      <td>[3, 1, 1, 1, 2, 1, 1, 1, 1, 1, 3, 2, 1, 1, 1, ...</td>\n",
       "      <td>no_norm</td>\n",
       "      <td>9.154161</td>\n",
       "    </tr>\n",
       "  </tbody>\n",
       "</table>\n",
       "</div>"
      ],
      "text/plain": [
       "                                   hyper_param_tuning  validation precision  \\\n",
       "0                                                none              1.000000   \n",
       "1   {'random_state': 42, 'max_depth': 12, 'criteri...              0.887981   \n",
       "17  {'random_state': 42, 'max_depth': 12, 'n_estim...              0.943357   \n",
       "33  {'random_state': 42, 'C': 0.01, 'kernel': 'lin...              0.779742   \n",
       "\n",
       "    validation recall  validation f1  validation accuracy  test precision  \\\n",
       "0            1.000000       1.000000             0.999328        0.843137   \n",
       "1            0.885897       0.880510             0.933466        0.890909   \n",
       "17           0.885897       0.910544             0.944209        0.869565   \n",
       "33           0.787821       0.780732             0.892459        0.826087   \n",
       "\n",
       "    test recall   test f1  test accuracy sampling  \\\n",
       "0      0.811321  0.826923       0.894984     none   \n",
       "1      0.924528  0.907407       0.934169  SMOTENC   \n",
       "17     0.754717  0.808081       0.921630  SMOTENC   \n",
       "33     0.716981  0.767677       0.887147  SMOTENC   \n",
       "\n",
       "              sampling_strategy  test imbalance              model name  \\\n",
       "0   [{1: 1158, 2: 207, 3: 123}]        0.889785  DecisionTreeClassifier   \n",
       "1   [{1: 1158, 2: 207, 3: 165}]        0.889785  DecisionTreeClassifier   \n",
       "17  [{1: 1158, 2: 207, 3: 165}]        0.889785  RandomForestClassifier   \n",
       "33  [{1: 1158, 2: 207, 3: 165}]        0.889785                     SVC   \n",
       "\n",
       "                                               y_pred normalization       time  \n",
       "0   [3, 1, 1, 1, 2, 1, 1, 2, 1, 2, 3, 1, 2, 1, 1, ...       no_norm   0.034532  \n",
       "1   [3, 1, 1, 1, 1, 1, 1, 1, 2, 1, 3, 2, 1, 1, 1, ...       no_norm   2.126208  \n",
       "17  [1, 1, 1, 1, 1, 1, 1, 1, 1, 1, 3, 1, 1, 1, 1, ...       no_norm  22.658856  \n",
       "33  [3, 1, 1, 1, 2, 1, 1, 1, 1, 1, 3, 2, 1, 1, 1, ...       no_norm   9.154161  "
      ]
     },
     "execution_count": 97,
     "metadata": {},
     "output_type": "execute_result"
    }
   ],
   "source": [
    "pd.concat([\n",
    "\n",
    "newdf.loc[(newdf['sampling'] == 'none') & (newdf['model name'] == newdf.loc[max_index][12]) \n",
    "          & (newdf['normalization'] == newdf.loc[max_index][14])  ],    \n",
    "    \n",
    "newdf.loc[newdf['test accuracy'] == newdf.loc[max_index][8]],\n",
    "\n",
    "newdf.loc[(newdf['sampling'] == newdf.loc[max_index][9]) & (newdf['model name'] == ndf.loc[0][0]) \n",
    "          & (newdf['normalization'] == newdf.loc[max_index][14]) & (newdf['test imbalance'] == newdf.loc[max_index][11]) ],\n",
    "\n",
    "newdf.loc[(newdf['sampling'] == newdf.loc[max_index][9]) & (newdf['model name'] == ndf.loc[1][0]) \n",
    "          & (newdf['normalization'] == newdf.loc[max_index][14]) & (newdf['test imbalance'] == newdf.loc[max_index][11]) ]\n",
    "])"
   ]
  },
  {
   "cell_type": "markdown",
   "id": "7a329aba",
   "metadata": {},
   "source": [
    "### now comparing the model with highest test accuracy with the other models with their highest test accuracy"
   ]
  },
  {
   "cell_type": "code",
   "execution_count": 107,
   "id": "9b698faa",
   "metadata": {},
   "outputs": [],
   "source": [
    "max_index1 = newdf.loc[(newdf['model name'] ==ndf.loc[0][0])]['test accuracy'].idxmax()\n",
    "max_index2= newdf.loc[(newdf['model name'] ==ndf.loc[1][0])]['test accuracy'].idxmax()"
   ]
  },
  {
   "cell_type": "code",
   "execution_count": 115,
   "id": "dd2f13a7",
   "metadata": {},
   "outputs": [
    {
     "data": {
      "text/html": [
       "<div>\n",
       "<style scoped>\n",
       "    .dataframe tbody tr th:only-of-type {\n",
       "        vertical-align: middle;\n",
       "    }\n",
       "\n",
       "    .dataframe tbody tr th {\n",
       "        vertical-align: top;\n",
       "    }\n",
       "\n",
       "    .dataframe thead th {\n",
       "        text-align: right;\n",
       "    }\n",
       "</style>\n",
       "<table border=\"1\" class=\"dataframe\">\n",
       "  <thead>\n",
       "    <tr style=\"text-align: right;\">\n",
       "      <th></th>\n",
       "      <th>hyper_param_tuning</th>\n",
       "      <th>validation precision</th>\n",
       "      <th>validation recall</th>\n",
       "      <th>validation f1</th>\n",
       "      <th>validation accuracy</th>\n",
       "      <th>test precision</th>\n",
       "      <th>test recall</th>\n",
       "      <th>test f1</th>\n",
       "      <th>test accuracy</th>\n",
       "      <th>sampling</th>\n",
       "      <th>sampling_strategy</th>\n",
       "      <th>test imbalance</th>\n",
       "      <th>model name</th>\n",
       "      <th>y_pred</th>\n",
       "      <th>normalization</th>\n",
       "      <th>time</th>\n",
       "    </tr>\n",
       "  </thead>\n",
       "  <tbody>\n",
       "    <tr>\n",
       "      <th>0</th>\n",
       "      <td>none</td>\n",
       "      <td>1.000000</td>\n",
       "      <td>1.000000</td>\n",
       "      <td>1.000000</td>\n",
       "      <td>0.999328</td>\n",
       "      <td>0.843137</td>\n",
       "      <td>0.811321</td>\n",
       "      <td>0.826923</td>\n",
       "      <td>0.894984</td>\n",
       "      <td>none</td>\n",
       "      <td>[{1: 1158, 2: 207, 3: 123}]</td>\n",
       "      <td>0.889785</td>\n",
       "      <td>DecisionTreeClassifier</td>\n",
       "      <td>[3, 1, 1, 1, 2, 1, 1, 2, 1, 2, 3, 1, 2, 1, 1, ...</td>\n",
       "      <td>no_norm</td>\n",
       "      <td>0.034532</td>\n",
       "    </tr>\n",
       "    <tr>\n",
       "      <th>1</th>\n",
       "      <td>{'random_state': 42, 'max_depth': 12, 'criteri...</td>\n",
       "      <td>0.887981</td>\n",
       "      <td>0.885897</td>\n",
       "      <td>0.880510</td>\n",
       "      <td>0.933466</td>\n",
       "      <td>0.890909</td>\n",
       "      <td>0.924528</td>\n",
       "      <td>0.907407</td>\n",
       "      <td>0.934169</td>\n",
       "      <td>SMOTENC</td>\n",
       "      <td>[{1: 1158, 2: 207, 3: 165}]</td>\n",
       "      <td>0.889785</td>\n",
       "      <td>DecisionTreeClassifier</td>\n",
       "      <td>[3, 1, 1, 1, 1, 1, 1, 1, 2, 1, 3, 2, 1, 1, 1, ...</td>\n",
       "      <td>no_norm</td>\n",
       "      <td>2.126208</td>\n",
       "    </tr>\n",
       "    <tr>\n",
       "      <th>66</th>\n",
       "      <td>{'random_state': 42, 'max_depth': 12, 'n_estim...</td>\n",
       "      <td>0.934840</td>\n",
       "      <td>0.902564</td>\n",
       "      <td>0.916467</td>\n",
       "      <td>0.945551</td>\n",
       "      <td>0.886792</td>\n",
       "      <td>0.886792</td>\n",
       "      <td>0.886792</td>\n",
       "      <td>0.931034</td>\n",
       "      <td>ros</td>\n",
       "      <td>[{1: 1158, 2: 207, 3: 165}]</td>\n",
       "      <td>0.889785</td>\n",
       "      <td>RandomForestClassifier</td>\n",
       "      <td>[3, 1, 1, 1, 1, 1, 1, 1, 1, 2, 3, 1, 1, 1, 1, ...</td>\n",
       "      <td>norm</td>\n",
       "      <td>18.812940</td>\n",
       "    </tr>\n",
       "    <tr>\n",
       "      <th>36</th>\n",
       "      <td>{'random_state': 42, 'C': 0.01, 'kernel': 'lin...</td>\n",
       "      <td>0.758442</td>\n",
       "      <td>0.835897</td>\n",
       "      <td>0.791433</td>\n",
       "      <td>0.891116</td>\n",
       "      <td>0.788462</td>\n",
       "      <td>0.773585</td>\n",
       "      <td>0.780952</td>\n",
       "      <td>0.888715</td>\n",
       "      <td>SMOTENC</td>\n",
       "      <td>[{1: 1158, 2: 314, 3: 314}]</td>\n",
       "      <td>0.689785</td>\n",
       "      <td>SVC</td>\n",
       "      <td>[3, 1, 1, 1, 2, 1, 1, 1, 1, 1, 3, 2, 1, 1, 1, ...</td>\n",
       "      <td>no_norm</td>\n",
       "      <td>13.584096</td>\n",
       "    </tr>\n",
       "    <tr>\n",
       "      <th>80</th>\n",
       "      <td>none</td>\n",
       "      <td>1.000000</td>\n",
       "      <td>0.804878</td>\n",
       "      <td>0.891892</td>\n",
       "      <td>0.922043</td>\n",
       "      <td>0.944444</td>\n",
       "      <td>0.641509</td>\n",
       "      <td>0.764045</td>\n",
       "      <td>0.888715</td>\n",
       "      <td>none</td>\n",
       "      <td>[{1: 1158, 2: 207, 3: 123}]</td>\n",
       "      <td>0.889785</td>\n",
       "      <td>SVC</td>\n",
       "      <td>[3, 1, 1, 1, 2, 1, 1, 1, 1, 1, 3, 2, 1, 1, 1, ...</td>\n",
       "      <td>norm</td>\n",
       "      <td>0.129701</td>\n",
       "    </tr>\n",
       "  </tbody>\n",
       "</table>\n",
       "</div>"
      ],
      "text/plain": [
       "                                   hyper_param_tuning  validation precision  \\\n",
       "0                                                none              1.000000   \n",
       "1   {'random_state': 42, 'max_depth': 12, 'criteri...              0.887981   \n",
       "66  {'random_state': 42, 'max_depth': 12, 'n_estim...              0.934840   \n",
       "36  {'random_state': 42, 'C': 0.01, 'kernel': 'lin...              0.758442   \n",
       "80                                               none              1.000000   \n",
       "\n",
       "    validation recall  validation f1  validation accuracy  test precision  \\\n",
       "0            1.000000       1.000000             0.999328        0.843137   \n",
       "1            0.885897       0.880510             0.933466        0.890909   \n",
       "66           0.902564       0.916467             0.945551        0.886792   \n",
       "36           0.835897       0.791433             0.891116        0.788462   \n",
       "80           0.804878       0.891892             0.922043        0.944444   \n",
       "\n",
       "    test recall   test f1  test accuracy sampling  \\\n",
       "0      0.811321  0.826923       0.894984     none   \n",
       "1      0.924528  0.907407       0.934169  SMOTENC   \n",
       "66     0.886792  0.886792       0.931034      ros   \n",
       "36     0.773585  0.780952       0.888715  SMOTENC   \n",
       "80     0.641509  0.764045       0.888715     none   \n",
       "\n",
       "              sampling_strategy  test imbalance              model name  \\\n",
       "0   [{1: 1158, 2: 207, 3: 123}]        0.889785  DecisionTreeClassifier   \n",
       "1   [{1: 1158, 2: 207, 3: 165}]        0.889785  DecisionTreeClassifier   \n",
       "66  [{1: 1158, 2: 207, 3: 165}]        0.889785  RandomForestClassifier   \n",
       "36  [{1: 1158, 2: 314, 3: 314}]        0.689785                     SVC   \n",
       "80  [{1: 1158, 2: 207, 3: 123}]        0.889785                     SVC   \n",
       "\n",
       "                                               y_pred normalization       time  \n",
       "0   [3, 1, 1, 1, 2, 1, 1, 2, 1, 2, 3, 1, 2, 1, 1, ...       no_norm   0.034532  \n",
       "1   [3, 1, 1, 1, 1, 1, 1, 1, 2, 1, 3, 2, 1, 1, 1, ...       no_norm   2.126208  \n",
       "66  [3, 1, 1, 1, 1, 1, 1, 1, 1, 2, 3, 1, 1, 1, 1, ...          norm  18.812940  \n",
       "36  [3, 1, 1, 1, 2, 1, 1, 1, 1, 1, 3, 2, 1, 1, 1, ...       no_norm  13.584096  \n",
       "80  [3, 1, 1, 1, 2, 1, 1, 1, 1, 1, 3, 2, 1, 1, 1, ...          norm   0.129701  "
      ]
     },
     "execution_count": 115,
     "metadata": {},
     "output_type": "execute_result"
    }
   ],
   "source": [
    "all_high=pd.concat([\n",
    "\n",
    "newdf.loc[(newdf['sampling'] == 'none') & (newdf['model name'] == newdf.loc[max_index][12]) \n",
    "          & (newdf['normalization'] == newdf.loc[max_index][14]) ],    \n",
    "    \n",
    "newdf.loc[newdf['test accuracy'] == newdf.loc[max_index][8]],\n",
    "\n",
    "newdf.loc[(newdf['model name'] == ndf.loc[0][0]) & (newdf['test accuracy'] == newdf.loc[max_index1][8])],\n",
    "\n",
    "newdf.loc[ (newdf['model name'] == ndf.loc[1][0]) & (newdf['test accuracy'] == newdf.loc[max_index2][8]) ]\n",
    "])\n",
    "\n",
    "all_high"
   ]
  },
  {
   "cell_type": "markdown",
   "id": "1ad138cf",
   "metadata": {},
   "source": [
    "### summerizing the models with the highest accuracy in each classifier"
   ]
  },
  {
   "cell_type": "code",
   "execution_count": 121,
   "id": "d475e956",
   "metadata": {},
   "outputs": [
    {
     "data": {
      "text/html": [
       "<div>\n",
       "<style scoped>\n",
       "    .dataframe tbody tr th:only-of-type {\n",
       "        vertical-align: middle;\n",
       "    }\n",
       "\n",
       "    .dataframe tbody tr th {\n",
       "        vertical-align: top;\n",
       "    }\n",
       "\n",
       "    .dataframe thead th {\n",
       "        text-align: right;\n",
       "    }\n",
       "</style>\n",
       "<table border=\"1\" class=\"dataframe\">\n",
       "  <thead>\n",
       "    <tr style=\"text-align: right;\">\n",
       "      <th></th>\n",
       "      <th>model name</th>\n",
       "      <th>normalization</th>\n",
       "      <th>sampling</th>\n",
       "      <th>sampling_strategy</th>\n",
       "      <th>validation accuracy</th>\n",
       "      <th>test accuracy</th>\n",
       "      <th>test f1</th>\n",
       "      <th>time</th>\n",
       "    </tr>\n",
       "  </thead>\n",
       "  <tbody>\n",
       "    <tr>\n",
       "      <th>0</th>\n",
       "      <td>DecisionTreeClassifier</td>\n",
       "      <td>no_norm</td>\n",
       "      <td>none</td>\n",
       "      <td>[{1: 1158, 2: 207, 3: 123}]</td>\n",
       "      <td>0.999328</td>\n",
       "      <td>0.894984</td>\n",
       "      <td>0.826923</td>\n",
       "      <td>0.034532</td>\n",
       "    </tr>\n",
       "    <tr>\n",
       "      <th>1</th>\n",
       "      <td>DecisionTreeClassifier</td>\n",
       "      <td>no_norm</td>\n",
       "      <td>SMOTENC</td>\n",
       "      <td>[{1: 1158, 2: 207, 3: 165}]</td>\n",
       "      <td>0.933466</td>\n",
       "      <td>0.934169</td>\n",
       "      <td>0.907407</td>\n",
       "      <td>2.126208</td>\n",
       "    </tr>\n",
       "    <tr>\n",
       "      <th>66</th>\n",
       "      <td>RandomForestClassifier</td>\n",
       "      <td>norm</td>\n",
       "      <td>ros</td>\n",
       "      <td>[{1: 1158, 2: 207, 3: 165}]</td>\n",
       "      <td>0.945551</td>\n",
       "      <td>0.931034</td>\n",
       "      <td>0.886792</td>\n",
       "      <td>18.812940</td>\n",
       "    </tr>\n",
       "    <tr>\n",
       "      <th>36</th>\n",
       "      <td>SVC</td>\n",
       "      <td>no_norm</td>\n",
       "      <td>SMOTENC</td>\n",
       "      <td>[{1: 1158, 2: 314, 3: 314}]</td>\n",
       "      <td>0.891116</td>\n",
       "      <td>0.888715</td>\n",
       "      <td>0.780952</td>\n",
       "      <td>13.584096</td>\n",
       "    </tr>\n",
       "    <tr>\n",
       "      <th>80</th>\n",
       "      <td>SVC</td>\n",
       "      <td>norm</td>\n",
       "      <td>none</td>\n",
       "      <td>[{1: 1158, 2: 207, 3: 123}]</td>\n",
       "      <td>0.922043</td>\n",
       "      <td>0.888715</td>\n",
       "      <td>0.764045</td>\n",
       "      <td>0.129701</td>\n",
       "    </tr>\n",
       "  </tbody>\n",
       "</table>\n",
       "</div>"
      ],
      "text/plain": [
       "                model name normalization sampling  \\\n",
       "0   DecisionTreeClassifier       no_norm     none   \n",
       "1   DecisionTreeClassifier       no_norm  SMOTENC   \n",
       "66  RandomForestClassifier          norm      ros   \n",
       "36                     SVC       no_norm  SMOTENC   \n",
       "80                     SVC          norm     none   \n",
       "\n",
       "              sampling_strategy  validation accuracy  test accuracy   test f1  \\\n",
       "0   [{1: 1158, 2: 207, 3: 123}]             0.999328       0.894984  0.826923   \n",
       "1   [{1: 1158, 2: 207, 3: 165}]             0.933466       0.934169  0.907407   \n",
       "66  [{1: 1158, 2: 207, 3: 165}]             0.945551       0.931034  0.886792   \n",
       "36  [{1: 1158, 2: 314, 3: 314}]             0.891116       0.888715  0.780952   \n",
       "80  [{1: 1158, 2: 207, 3: 123}]             0.922043       0.888715  0.764045   \n",
       "\n",
       "         time  \n",
       "0    0.034532  \n",
       "1    2.126208  \n",
       "66  18.812940  \n",
       "36  13.584096  \n",
       "80   0.129701  "
      ]
     },
     "execution_count": 121,
     "metadata": {},
     "output_type": "execute_result"
    }
   ],
   "source": [
    "all_high.loc[:, ['model name','normalization','sampling','sampling_strategy','validation accuracy','test accuracy',\n",
    "                 'test f1','time']]"
   ]
  },
  {
   "cell_type": "markdown",
   "id": "c4322612",
   "metadata": {},
   "source": [
    "### Now doing a McNemar test to see how the models interpretted the data and what is the chance accuracies are bu chance"
   ]
  },
  {
   "cell_type": "code",
   "execution_count": 110,
   "id": "b14b1fc3",
   "metadata": {},
   "outputs": [],
   "source": [
    "model1_pred = newdf['y_pred'][max_index]\n",
    "model2_pred = newdf['y_pred'][max_index]\n",
    "model3_pred = newdf['y_pred'][max_index]"
   ]
  },
  {
   "cell_type": "markdown",
   "id": "09be1b7f",
   "metadata": {},
   "source": [
    "### this function takes in two sets of values and performs mcnemars test"
   ]
  },
  {
   "cell_type": "code",
   "execution_count": 111,
   "id": "304fcc6f",
   "metadata": {},
   "outputs": [],
   "source": [
    "def model_stat_mcnemar(y_test, model1_pred, model2_pred):\n",
    "    \"\"\"\n",
    "    takes the actual and predicted value of two classifiers and perfoms mcnemar statistical test \n",
    "    to evaluate whether the scores reported by the two models are statistically significant\n",
    "    McNemar’s test statistic = (Yes/No - No/Yes)^2 / (Yes/No + No/Yes)\n",
    "    The test statistic has a Chi-Squared distribution with  1  degree of freedom\n",
    "    \"\"\"\n",
    "\n",
    "    model1_table = pd.DataFrame(dict(y_true=y_test, y_pred=model1_pred))\n",
    "    model1_table['model1_tf'] = model1_table.y_true == model1_table.y_pred\n",
    "    model1_tf = model1_table.model1_tf.value_counts()\n",
    "\n",
    "    model2_table = pd.DataFrame(dict(y_true=y_test, y_pred=model2_pred))\n",
    "    model2_table['model2_tf'] = model2_table.y_true == model2_table.y_pred\n",
    "    model2_tf = model2_table.model2_tf.value_counts()\n",
    "\n",
    "    table = [[model1_tf[1]+model2_tf[1], model1_tf[1]+model2_tf[0]],\n",
    "             [model1_tf[0]+model2_tf[1], model1_tf[0]+model2_tf[0]]]\n",
    "\n",
    "    table = pd.DataFrame(table, index=['Classifier1 Correct', 'Classifier1 Incorrect'], \n",
    "                         columns=['Classifier2 Correct', 'Classifier2 Incorrect'])\n",
    "\n",
    "    # calculate mcnemar test\n",
    "    result = mcnemar(table.values, exact=False, correction=True)\n",
    "\n",
    "    # summarize the finding\n",
    "    return (result.statistic, result.pvalue)\n"
   ]
  },
  {
   "cell_type": "markdown",
   "id": "4d10fa1b",
   "metadata": {},
   "source": [
    "### testing classifier 1 and 2"
   ]
  },
  {
   "cell_type": "code",
   "execution_count": 112,
   "id": "71291b14",
   "metadata": {},
   "outputs": [
    {
     "name": "stdout",
     "output_type": "stream",
     "text": [
      "stat_mcnemar: 0.0007836990595611285\n",
      "pvalue: 0.9776664376600206\n"
     ]
    }
   ],
   "source": [
    "statistic, pvalue = model_stat_mcnemar(y_test, model1_pred, model2_pred)\n",
    "print(\"stat_mcnemar:\", statistic)\n",
    "print(\"pvalue:\", pvalue)\n"
   ]
  },
  {
   "cell_type": "markdown",
   "id": "14e9a651",
   "metadata": {},
   "source": [
    "### testing classifier 1 and 3"
   ]
  },
  {
   "cell_type": "code",
   "execution_count": 113,
   "id": "aeef7644",
   "metadata": {},
   "outputs": [
    {
     "name": "stdout",
     "output_type": "stream",
     "text": [
      "stat_mcnemar: 0.0007836990595611285\n",
      "pvalue: 0.9776664376600206\n"
     ]
    }
   ],
   "source": [
    "statistic, pvalue = model_stat_mcnemar(y_test, model1_pred, model3_pred)\n",
    "print(\"stat_mcnemar:\", statistic)\n",
    "print(\"pvalue:\", pvalue)"
   ]
  },
  {
   "cell_type": "markdown",
   "id": "7008ea2a",
   "metadata": {},
   "source": [
    "### testing classifier 2 and 3"
   ]
  },
  {
   "cell_type": "code",
   "execution_count": 114,
   "id": "2fa777f5",
   "metadata": {},
   "outputs": [
    {
     "name": "stdout",
     "output_type": "stream",
     "text": [
      "stat_mcnemar: 0.0007836990595611285\n",
      "pvalue: 0.9776664376600206\n"
     ]
    }
   ],
   "source": [
    "statistic, pvalue = model_stat_mcnemar(y_test, model2_pred, model3_pred)\n",
    "print(\"stat_mcnemar:\", statistic)\n",
    "print(\"pvalue:\", pvalue)"
   ]
  },
  {
   "cell_type": "markdown",
   "id": "c609d688",
   "metadata": {},
   "source": [
    "### and doing a K-W test on the 3 predicted data"
   ]
  },
  {
   "cell_type": "code",
   "execution_count": 125,
   "id": "0ba164ae",
   "metadata": {},
   "outputs": [
    {
     "data": {
      "text/plain": [
       "KruskalResult(statistic=0.0, pvalue=1.0)"
      ]
     },
     "execution_count": 125,
     "metadata": {},
     "output_type": "execute_result"
    }
   ],
   "source": [
    "stats.kruskal(model1_pred, model2_pred, model3_pred)"
   ]
  },
  {
   "cell_type": "markdown",
   "id": "fdacc773",
   "metadata": {},
   "source": [
    "## FUTURE WORK\n",
    "\n",
    "### should focus on the data and their relationships more\n",
    "\n",
    "### coming back to the not mormalized machine data, we want to see if we can re create some of the morphologinal data from the machine data\n",
    "\n",
    "### the morphological classification FS is a very ominous smooth sinusoidal pattern \n",
    "\n",
    "### in this stress position the fetus will not demonstrate any acceleration initially"
   ]
  },
  {
   "cell_type": "markdown",
   "id": "504c86c5",
   "metadata": {},
   "source": [
    "### focusing on machine data only"
   ]
  },
  {
   "cell_type": "code",
   "execution_count": 178,
   "id": "ca7290da",
   "metadata": {},
   "outputs": [],
   "source": [
    "mydata_no_normdrop = mydata_no_norm.drop(['A','B','C','D','E','AD','DE','LD','SUSP', 'FS','CLASS'], 1)\n",
    "#mydata_no_normdrop.info() "
   ]
  },
  {
   "cell_type": "markdown",
   "id": "4e51bcbe",
   "metadata": {},
   "source": [
    "### creating categorical variable based on uterine contraction, acceleration cut off and short term variation cut off"
   ]
  },
  {
   "cell_type": "code",
   "execution_count": 179,
   "id": "e8cc75e5",
   "metadata": {},
   "outputs": [],
   "source": [
    "mydata_no_normdrop['ACcut'] = pd.cut(x=mydata_no_normdrop['AC'], bins=[0,0.9,5000], labels=[1,0], include_lowest=True)\n",
    "\n",
    "\n",
    "mydata_no_normdrop['ASTVcut'] = pd.cut(x=mydata_no_normdrop['ASTV'], bins=[0,47,87,5000], labels=[0,1,0],ordered=False, \n",
    "                                       include_lowest=True)\n",
    "\n",
    "mydata_no_normdrop['UCcut'] = pd.cut(x=mydata_no_normdrop['UC'], bins=[0,6,5000], labels=[1,0], \n",
    "                                       include_lowest=True)\n",
    "\n",
    "mydata_no_normdrop[['ACcut', 'ASTVcut', 'UCcut']] = mydata_no_normdrop[['ACcut', 'ASTVcut', 'UCcut']].apply(pd.to_numeric)\n",
    "\n"
   ]
  },
  {
   "cell_type": "markdown",
   "id": "516fa20f",
   "metadata": {},
   "source": [
    "### making combination categorical data for fetal sinusoidal pattern"
   ]
  },
  {
   "cell_type": "code",
   "execution_count": 180,
   "id": "051f9c28",
   "metadata": {},
   "outputs": [],
   "source": [
    "mydata_no_normdrop['FScalc'] = (0.6*mydata_no_normdrop['ACcut'] + 0.8*mydata_no_normdrop['ASTVcut']+\n",
    "                                0.3*mydata_no_normdrop['UCcut'] )\n",
    "\n",
    "mydata_no_normdrop.drop(['ACcut','ASTVcut','UCcut'], 1, inplace=True)\n"
   ]
  },
  {
   "cell_type": "code",
   "execution_count": 187,
   "id": "ea303500",
   "metadata": {},
   "outputs": [],
   "source": [
    "#mydata_no_normdrop.info()"
   ]
  },
  {
   "cell_type": "markdown",
   "id": "22df06b8",
   "metadata": {},
   "source": [
    "### checking classifier performance with the new categorical variable added"
   ]
  },
  {
   "cell_type": "code",
   "execution_count": 185,
   "id": "de17c3ee",
   "metadata": {},
   "outputs": [],
   "source": [
    "label_col = mydata_no_norm['NSP'] \n",
    "data_col = mydata_no_norm.loc[:, mydata_no_norm.columns != 'NSP']\n",
    "                               \n",
    "X_train,X_test,y_train,y_test=train_test_split(data_col,label_col,test_size=0.3 ,\n",
    "                                               random_state=my_rand, stratify=label_col)"
   ]
  },
  {
   "cell_type": "code",
   "execution_count": 186,
   "id": "5b1d1458",
   "metadata": {},
   "outputs": [
    {
     "name": "stdout",
     "output_type": "stream",
     "text": [
      "****************************** DecisionTreeClassifier ******************************\n",
      "\n"
     ]
    },
    {
     "data": {
      "image/png": "[encoded data removed]",
      "text/plain": [
       "<Figure size 432x288 with 2 Axes>"
      ]
     },
     "metadata": {
      "needs_background": "light"
     },
     "output_type": "display_data"
    },
    {
     "name": "stdout",
     "output_type": "stream",
     "text": [
      "\n",
      "\n",
      "              precision    recall  f1-score   support\n",
      "\n",
      "           1       0.91      0.98      0.95       497\n",
      "           2       0.85      0.51      0.64        88\n",
      "           3       0.92      0.83      0.87        53\n",
      "\n",
      "    accuracy                           0.91       638\n",
      "   macro avg       0.89      0.78      0.82       638\n",
      "weighted avg       0.90      0.91      0.90       638\n",
      " \n",
      "\n",
      "****************************** RandomForestClassifier ******************************\n",
      "\n"
     ]
    },
    {
     "data": {
      "image/png": "[encoded data removed]",
      "text/plain": [
       "<Figure size 432x288 with 2 Axes>"
      ]
     },
     "metadata": {
      "needs_background": "light"
     },
     "output_type": "display_data"
    },
    {
     "name": "stdout",
     "output_type": "stream",
     "text": [
      "\n",
      "\n",
      "              precision    recall  f1-score   support\n",
      "\n",
      "           1       0.91      0.98      0.95       497\n",
      "           2       0.85      0.51      0.64        88\n",
      "           3       0.92      0.83      0.87        53\n",
      "\n",
      "    accuracy                           0.91       638\n",
      "   macro avg       0.89      0.78      0.82       638\n",
      "weighted avg       0.90      0.91      0.90       638\n",
      " \n",
      "\n",
      "****************************** SVC ******************************\n",
      "\n"
     ]
    },
    {
     "data": {
      "image/png": "[encoded data removed]",
      "text/plain": [
       "<Figure size 432x288 with 2 Axes>"
      ]
     },
     "metadata": {
      "needs_background": "light"
     },
     "output_type": "display_data"
    },
    {
     "name": "stdout",
     "output_type": "stream",
     "text": [
      "\n",
      "\n",
      "              precision    recall  f1-score   support\n",
      "\n",
      "           1       0.91      0.98      0.95       497\n",
      "           2       0.85      0.51      0.64        88\n",
      "           3       0.92      0.83      0.87        53\n",
      "\n",
      "    accuracy                           0.91       638\n",
      "   macro avg       0.89      0.78      0.82       638\n",
      "weighted avg       0.90      0.91      0.90       638\n",
      " \n",
      "\n"
     ]
    }
   ],
   "source": [
    "dc_clf = tree.DecisionTreeClassifier()\n",
    "rnd_clf=RandomForestClassifier()\n",
    "svm_clf=SVC()\n",
    "\n",
    "# training and testing CTG meachine only data with the classifiers\n",
    "\n",
    "for clf in (dc_clf, rnd_clf, svm_clf):#, xgb_clf):\n",
    "\n",
    "    clf.fit(X_train, y_train)# fitting original imbalanced without expert data\n",
    "    y_pred2 = clf.predict(X_test)\n",
    "    \n",
    "    print(\"******************************\",clf.__class__.__name__,\"******************************\\n\")\n",
    "    \n",
    "    cf_matrix = confusion_matrix(y_test,y_pred)\n",
    "    ax = sns.heatmap(cf_matrix, annot=True, fmt='g', ax=None, cmap='Blues')\n",
    "    #ax.set_title('Seaborn Confusion Matrix with labels\\n\\n');\n",
    "    ax.set_xlabel('\\nPredicted Values')\n",
    "    ax.set_ylabel('Actual Values ');\n",
    "\n",
    "    ## Ticket labels - List must be in alphabetical order\n",
    "    ax.xaxis.set_ticklabels(['normal', 'suspect','pathologic'])\n",
    "    ax.yaxis.set_ticklabels(['normal', 'suspect','pathologic'])\n",
    "\n",
    "    ## Display the visualization of the Confusion Matrix.\n",
    "    plt.show()\n",
    "    print(\"\\n\")\n",
    "    \n",
    "    #print(clf.__class__.__name__, accuracy_score(y_test, y_pred))\n",
    "    #print(clf.__class__.__name__, recall_score(y_test,y_pred,average=\"weighted\"))\n",
    "    #print(clf.__class__.__name__, precision_score(y_test,y_pred,average='weighted'))\n",
    "    print( classification_report(y_test,y_pred),\"\\n\")   "
   ]
  }
 ],
 "metadata": {
  "kernelspec": {
   "display_name": "Python 3 (ipykernel)",
   "language": "python",
   "name": "python3"
  },
  "language_info": {
   "codemirror_mode": {
    "name": "ipython",
    "version": 3
   },
   "file_extension": ".py",
   "mimetype": "text/x-python",
   "name": "python",
   "nbconvert_exporter": "python",
   "pygments_lexer": "ipython3",
   "version": "3.9.7"
  }
 },
 "nbformat": 4,
 "nbformat_minor": 5
}
